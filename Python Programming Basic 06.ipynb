{
 "cells": [
  {
   "cell_type": "markdown",
   "id": "95fe5e4c",
   "metadata": {},
   "source": [
    "1.\tWrite a Python Program to Display Fibonacci Sequence Using Recursion?\n"
   ]
  },
  {
   "cell_type": "code",
   "execution_count": 24,
   "id": "0d73ac54",
   "metadata": {},
   "outputs": [
    {
     "data": {
      "text/plain": [
       "[0, 1, 1, 2, 3, 5, 8, 13, 21, 34]"
      ]
     },
     "execution_count": 24,
     "metadata": {},
     "output_type": "execute_result"
    }
   ],
   "source": [
    "def fibb(term):\n",
    "    try:\n",
    "#base case\n",
    "        if term == 1:\n",
    "            return [0]\n",
    "        elif term == 2:\n",
    "            return [0, 1]\n",
    "        else:\n",
    "#recursive case\n",
    "            series = fibb(term-1)\n",
    "            series.append(series[-2] + series[-1])\n",
    "            return series\n",
    "    \n",
    "    except ValueError:\n",
    "        print('Invalid input!')\n",
    "\n",
    "fibb(10)"
   ]
  },
  {
   "cell_type": "markdown",
   "id": "b111c487",
   "metadata": {},
   "source": [
    "2.\tWrite a Python Program to Find Factorial of Number Using Recursion?\n"
   ]
  },
  {
   "cell_type": "code",
   "execution_count": 25,
   "id": "18bf43f4",
   "metadata": {},
   "outputs": [
    {
     "data": {
      "text/plain": [
       "120"
      ]
     },
     "execution_count": 25,
     "metadata": {},
     "output_type": "execute_result"
    }
   ],
   "source": [
    "def factorial(num):\n",
    "#base case\n",
    "    if num == 1:\n",
    "        return num\n",
    "#recursive case\n",
    "    else:\n",
    "        return (num*factorial(num-1))\n",
    "    \n",
    "factorial(5)"
   ]
  },
  {
   "cell_type": "markdown",
   "id": "cc17e200",
   "metadata": {},
   "source": [
    "3.\tWrite a Python Program to calculate your Body Mass Index?\n"
   ]
  },
  {
   "cell_type": "code",
   "execution_count": 14,
   "id": "7d674f7a",
   "metadata": {},
   "outputs": [
    {
     "name": "stdout",
     "output_type": "stream",
     "text": [
      "Enter your height in meter : 1.6\n",
      "Enter your weight in kg : 55\n",
      "Your bmi is 21.484374999999996\n",
      "Healthy Weight\n"
     ]
    }
   ],
   "source": [
    "def bmi(height, weight):\n",
    "\n",
    "    bmi = weight/height**2\n",
    "    print(f'Your bmi is {bmi}')\n",
    "\n",
    "    if bmi < 18.5:\n",
    "        print('You are underweight')\n",
    "\n",
    "    elif 18.5 < bmi < 24.9:\n",
    "        print('Healthy Weight')\n",
    "\n",
    "    elif 25.0 < bmi < 29.9:\n",
    "        print('Over Weight')\n",
    "\n",
    "    elif 30.0 > bmi:\n",
    "        print('Obesity')\n",
    "        \n",
    "height = float(input(\"Enter your height in meter : \"))\n",
    "weight = float(input(\"Enter your weight in kg : \"))\n",
    "bmi(height,weight)"
   ]
  },
  {
   "cell_type": "markdown",
   "id": "82762d15",
   "metadata": {},
   "source": [
    "4.\tWrite a Python Program to calculate the natural logarithm of any number?\n"
   ]
  },
  {
   "cell_type": "code",
   "execution_count": 32,
   "id": "84e1a595",
   "metadata": {},
   "outputs": [
    {
     "name": "stdout",
     "output_type": "stream",
     "text": [
      "Enter a number10\n",
      "Natural logarithm of 10.0 is 2.302585092994046\n"
     ]
    }
   ],
   "source": [
    "import math\n",
    "\n",
    "num = float(input('Enter a number'))\n",
    "try:\n",
    "    if num > 0:\n",
    "        natural_logarithm = math.log(num)\n",
    "        print(f'Natural logarithm of {num} is {natural_logarithm}')\n",
    "        \n",
    "    else:\n",
    "        print('Please enter a positive integer')\n",
    "except ValueError:\n",
    "    print('INVALID INPUT!')"
   ]
  },
  {
   "cell_type": "markdown",
   "id": "f26ae58f",
   "metadata": {},
   "source": [
    "5.\tWrite a Python Program for cube sum of first n natural numbers?"
   ]
  },
  {
   "cell_type": "code",
   "execution_count": 35,
   "id": "863e89f5",
   "metadata": {},
   "outputs": [
    {
     "data": {
      "text/plain": [
       "3025"
      ]
     },
     "execution_count": 35,
     "metadata": {},
     "output_type": "execute_result"
    }
   ],
   "source": [
    "def cube_sum(num):\n",
    "    sum = 0\n",
    "    for n in range(1, num+1):\n",
    "        sum += n**3\n",
    "    return sum\n",
    "\n",
    "cube_sum(10)"
   ]
  }
 ],
 "metadata": {
  "kernelspec": {
   "display_name": "Python 3 (ipykernel)",
   "language": "python",
   "name": "python3"
  },
  "language_info": {
   "codemirror_mode": {
    "name": "ipython",
    "version": 3
   },
   "file_extension": ".py",
   "mimetype": "text/x-python",
   "name": "python",
   "nbconvert_exporter": "python",
   "pygments_lexer": "ipython3",
   "version": "3.11.3"
  }
 },
 "nbformat": 4,
 "nbformat_minor": 5
}
