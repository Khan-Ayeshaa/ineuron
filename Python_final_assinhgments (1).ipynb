{
 "cells": [
  {
   "cell_type": "raw",
   "id": "c4fe664f",
   "metadata": {},
   "source": [
    "Q1. In the below elements which of them are values or an expression? eg:- values can be\n",
    "\n",
    "integer or string and expressions will be mathematical operators.\n",
    "Ans -\n",
    "* : Expression (Addition)\n",
    "\n",
    "'hello' : Value (String)\n",
    "\n",
    "-87.8 : Value (Floating Number)\n",
    "\n",
    "- : Expression (Subtraction)\n",
    "\n",
    "/ : Expression (Division)\n",
    "\n",
    "+ : Expression (Addition)\n",
    "\n",
    "6 : Value (integer)"
   ]
  },
  {
   "cell_type": "markdown",
   "id": "f05c62c2",
   "metadata": {},
   "source": [
    "Q2. What is the difference between string and variable?\n",
    "Ans -\n",
    "String - Combination of letters or words. Strings can be assigned to a variable.\n",
    "\n",
    "Variable - Variable is a kind of entity which helps us to hold values inside RAM. We assign a certain value to the variable to\n",
    "\n",
    "create it. Variable names can contain letters or numbers."
   ]
  },
  {
   "cell_type": "markdown",
   "id": "46b951ec",
   "metadata": {},
   "source": [
    "Q3. Describe three different data types.\n",
    "Ans -\n",
    "Three different types of data types are-\n",
    "\n",
    "Integer (Int) - Combination of digits/numbers.\n",
    "\n",
    "String (Str) - Combination of letters\n",
    "\n",
    "Boolean (bool) - True/False\n",
    "\n",
    "Examples of each are explained below."
   ]
  },
  {
   "cell_type": "code",
   "execution_count": 1,
   "id": "a2385c76",
   "metadata": {},
   "outputs": [
    {
     "data": {
      "text/plain": [
       "(int, str, bool)"
      ]
     },
     "execution_count": 1,
     "metadata": {},
     "output_type": "execute_result"
    }
   ],
   "source": [
    "a,b,c= 23,\"ayesha\",True\n",
    "type(a), type(b), type(c)"
   ]
  },
  {
   "cell_type": "markdown",
   "id": "594bbda3",
   "metadata": {},
   "source": [
    "Q4. What is an expression made up of? What do all expressions do?\n",
    "\n",
    "\n",
    "Ans - \n",
    "Expressions are mathematical operators. Mathematical operators contains + (Addition),\t- (Subtraction), * (Multiplication),\n",
    "\n",
    "/ (Division) etc.These operators helps to combine two values of same type i.e. Str+Str or Int+Int to give a new value."
   ]
  },
  {
   "cell_type": "markdown",
   "id": "b41a8896",
   "metadata": {},
   "source": [
    "Q5. This assignment statements, like spam = 10. What is the difference between an expression and a statement?\n",
    "\n",
    "\n",
    "Ans - \n",
    "An expression is a combination of values, variables, and operators. Expressions are parts of statements that returns some value.\n",
    "Statements are composed of expressions. Everything in python that can make up a line is statement."
   ]
  },
  {
   "cell_type": "markdown",
   "id": "0d4fbc7c",
   "metadata": {},
   "source": [
    "Q6. After running the following code, what does the variable bacon contain?\n",
    "\n",
    "bacon = 22\n",
    "\n",
    "bacon + 1\n",
    "\n",
    "\n",
    "Ans - \n",
    "The variable bacon will contain 22 only.\n",
    "\n",
    "We have already assigned 22 to bacon so in the next step bacon+1 will give 23 but will not be assigned to bacon unless we do it\n",
    "\n",
    "manually. So bacon=22."
   ]
  },
  {
   "cell_type": "markdown",
   "id": "113f02ca",
   "metadata": {},
   "source": [
    "Q7. What should the values of the following two terms be?\n",
    "\n",
    "Ans - \n",
    "'spam' + 'spamspam' = spamspamspam \n",
    "\n",
    "'spam'*3 = spamspamspam\n",
    "\n",
    "In case of Strings concatenation takes place."
   ]
  },
  {
   "cell_type": "markdown",
   "id": "bb850bce",
   "metadata": {},
   "source": [
    "Q8. Why is eggs a valid variable name while 100 is invalid?\n",
    "\n",
    "Ans - \n",
    "\n",
    "Eggs is a valid variable because it is a combination of strings but 100 is not as it is a combination of integers.\n",
    "\n",
    "Variable names can only contain letters or alphanumeric names. Only numbers will be invalid."
   ]
  },
  {
   "cell_type": "markdown",
   "id": "90c98fdc",
   "metadata": {},
   "source": [
    "Q9. What three functions can be used to get the integer, floating-point number, or string\n",
    "version of a value?\n",
    "\n",
    "Ans -\n",
    "Let XYZ be a value.\n",
    "\n",
    "To get the Integer version  of the value we use, int(XYZ)\n",
    "\n",
    "To get the floating-point number version of the value we use, float(XYZ)\n",
    "\n",
    "To get the string version  of the value we use, str(XYZ)."
   ]
  },
  {
   "cell_type": "markdown",
   "id": "5534df47",
   "metadata": {},
   "source": [
    "Q10. Why does this expression cause an error? How can you fix it?\n",
    "'I have eaten' + 99 + 'burritos.'\n",
    "\n",
    "Ans - \n",
    "The above statement causes error because 'I have eaten' and 'burritos' are string types and 99 is an integer. \n",
    "\n",
    "Thus, python does not allow the addition of string with integer. \n",
    "\n",
    "To fix it we have to convert integer value to its string version by applying the function str() before it as shown below."
   ]
  },
  {
   "cell_type": "code",
   "execution_count": 2,
   "id": "0fccf28a",
   "metadata": {},
   "outputs": [
    {
     "data": {
      "text/plain": [
       "'I have eaten99burritos.'"
      ]
     },
     "execution_count": 2,
     "metadata": {},
     "output_type": "execute_result"
    }
   ],
   "source": [
    "'I have eaten'  + str(99) +  'burritos.'"
   ]
  }
 ],
 "metadata": {
  "kernelspec": {
   "display_name": "Python 3 (ipykernel)",
   "language": "python",
   "name": "python3"
  },
  "language_info": {
   "codemirror_mode": {
    "name": "ipython",
    "version": 3
   },
   "file_extension": ".py",
   "mimetype": "text/x-python",
   "name": "python",
   "nbconvert_exporter": "python",
   "pygments_lexer": "ipython3",
   "version": "3.9.7"
  }
 },
 "nbformat": 4,
 "nbformat_minor": 5
}
