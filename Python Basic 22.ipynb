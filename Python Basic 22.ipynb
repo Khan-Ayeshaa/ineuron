{
 "cells": [
  {
   "cell_type": "raw",
   "id": "c0b95919",
   "metadata": {},
   "source": [
    "1. What is the result of the code, and explain?\n",
    "X= 'iNeuron'\n",
    "def func():\n",
    "  print(X)\n",
    "func()"
   ]
  },
  {
   "cell_type": "raw",
   "id": "66f2711c",
   "metadata": {},
   "source": [
    "Ans1- Output of the code is:\n",
    "iNeuron\n",
    "The function 'func' is defined where it prints the value of X when it is called which is assigned outside the function as 'iNeuron'."
   ]
  },
  {
   "cell_type": "raw",
   "id": "6c6b9bcd",
   "metadata": {},
   "source": [
    "2. What is the result of the code, and explain?\n",
    "X= 'iNeuron'\n",
    "def func():\n",
    "  X= 'NI!'\n",
    "  func()\n",
    "  print(X)"
   ]
  },
  {
   "cell_type": "markdown",
   "id": "c2a2d49e",
   "metadata": {},
   "source": [
    "Ans2- It does not return any output as the function is not called. A function after returning a value should be called to execute it as func() but here it is called inside the function itself."
   ]
  },
  {
   "cell_type": "raw",
   "id": "b67796af",
   "metadata": {},
   "source": [
    "3. What does this code print, and why?\n",
    "X= 'iNeuron'\n",
    "def func():\n",
    "  X= 'NI'\n",
    "  print(X)\n",
    "func()\n",
    "print(X)"
   ]
  },
  {
   "cell_type": "raw",
   "id": "417c4451",
   "metadata": {},
   "source": [
    "Ans3- Output is:\n",
    "NI\n",
    "iNeuron\n",
    "A variable X is assigned outside the function as 'iNeuron' which is a global variable. Inside the function the variable X is assigned as 'NI' which is nonlocal variable.\n",
    "When we call the function func() it is executed and prints the value assigned within it as 'NI' but the X outside the function remains unaffected and hence gives us 'iNeuron'."
   ]
  },
  {
   "cell_type": "raw",
   "id": "b222f4fc",
   "metadata": {},
   "source": [
    "4. What output does this code produce? Why?\n",
    "X= 'iNeuron'\n",
    "def func():\n",
    "  global X\n",
    "  X= 'NI'\n",
    "func()\n",
    "print(X)"
   ]
  },
  {
   "cell_type": "raw",
   "id": "ea0a385e",
   "metadata": {},
   "source": [
    "Ans4- Output is:\n",
    "NI\n",
    "Here when we call the function func(), it takes the value of global X which is 'iNeuron' and assigns to it a new value 'NI'. No output is produced for this as we are not returning any value from the function. Now when we print X, it gives us the new assigned global value which is 'iNeuron'."
   ]
  },
  {
   "cell_type": "raw",
   "id": "f47e9c0d",
   "metadata": {},
   "source": [
    "5. What about this code—what’s the output, and why?\n",
    "X= 'iNeuron'\n",
    "def func():\n",
    "  X= 'NI'\n",
    "  def nested():\n",
    "    print(X)\n",
    "  nested()\n",
    "func()\n",
    "X"
   ]
  },
  {
   "cell_type": "raw",
   "id": "c7f5a934",
   "metadata": {},
   "source": [
    "Ans5- The output is:\n",
    "NI\n",
    "iNeuron\n",
    "When the funcion is called the nonlocal variable X is assigned as 'NI' and another function function is called automatically nested which prints the  value of X which is defined in the function. But it does not afftect the global variable X so theoutput for X remains 'iNeuron'."
   ]
  },
  {
   "cell_type": "raw",
   "id": "407e150f",
   "metadata": {},
   "source": [
    "6. How about this code: what is its output in Python 3, and explain?\n",
    "def func():\n",
    "  X= 'NI'\n",
    "  def nested():\n",
    "    nonlocal X\n",
    "    X = 'Spam'\n",
    "  nested()\n",
    "  print(X)\n",
    "func()"
   ]
  },
  {
   "cell_type": "raw",
   "id": "8b69a0b7",
   "metadata": {},
   "source": [
    "Ans6- The output is:\n",
    "Spam\n",
    "When the function func() is called X takes the value of 'NI' which is the nonlocal variable for the function. Now the nested function runs and in it another nonlocal variable X is assigned which replaces 'NI' with 'Spam'. When we call the func()function, the nested function is also called and hence prints the new assigned value of X."
   ]
  }
 ],
 "metadata": {
  "kernelspec": {
   "display_name": "Python 3 (ipykernel)",
   "language": "python",
   "name": "python3"
  },
  "language_info": {
   "codemirror_mode": {
    "name": "ipython",
    "version": 3
   },
   "file_extension": ".py",
   "mimetype": "text/x-python",
   "name": "python",
   "nbconvert_exporter": "python",
   "pygments_lexer": "ipython3",
   "version": "3.11.3"
  }
 },
 "nbformat": 4,
 "nbformat_minor": 5
}
