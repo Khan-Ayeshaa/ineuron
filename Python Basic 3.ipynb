{
 "cells": [
  {
   "cell_type": "raw",
   "id": "9d057c92",
   "metadata": {},
   "source": [
    "Q1. Why are functions advantageous to have in your programs?"
   ]
  },
  {
   "cell_type": "raw",
   "id": "cb34a1e9",
   "metadata": {},
   "source": [
    "Ans1- Functions make our program more readable and avoid us to write the same code again hence reducing the need of a duplicate code. Using a function in our code makes it sructured and understandable. "
   ]
  },
  {
   "cell_type": "raw",
   "id": "ee74f17d",
   "metadata": {},
   "source": [
    "Q2. When does the code in a function run: when it's specified or when it's called?"
   ]
  },
  {
   "cell_type": "raw",
   "id": "28aa3519",
   "metadata": {},
   "source": [
    "Ans2- When it's called."
   ]
  },
  {
   "cell_type": "raw",
   "id": "1b3c5c08",
   "metadata": {},
   "source": [
    "Q3. What statement creates a function?"
   ]
  },
  {
   "cell_type": "raw",
   "id": "3face6db",
   "metadata": {},
   "source": [
    "Ans3- The define statement i.e. def(function_name):"
   ]
  },
  {
   "cell_type": "raw",
   "id": "173eb234",
   "metadata": {},
   "source": [
    "Q4. What is the difference between a function and a function call?"
   ]
  },
  {
   "cell_type": "raw",
   "id": "a020e96c",
   "metadata": {},
   "source": [
    "Ans4- A function defines the action and the code that the function has to take.\n",
    "Whereas a function call executes that function by returning the value."
   ]
  },
  {
   "cell_type": "raw",
   "id": "67d9577a",
   "metadata": {},
   "source": [
    "Q5. How many global scopes are there in a Python program? How many local scopes?"
   ]
  },
  {
   "cell_type": "raw",
   "id": "94afd4a8",
   "metadata": {},
   "source": [
    "Ans5- There is one global scope.\n",
    "Local scopes are created when we call the function."
   ]
  },
  {
   "cell_type": "raw",
   "id": "1ade609e",
   "metadata": {},
   "source": [
    "Q6. What happens to variables in a local scope when the function call returns?"
   ]
  },
  {
   "cell_type": "raw",
   "id": "eebb6f4b",
   "metadata": {},
   "source": [
    "Ans6- When a function returns, the local scope is deleted from the memory and the variable is deleted."
   ]
  },
  {
   "cell_type": "raw",
   "id": "e51ab985",
   "metadata": {},
   "source": [
    "Q7. What is the concept of a return value? Is it possible to have a return value in an expression?"
   ]
  },
  {
   "cell_type": "raw",
   "id": "18f6a5c8",
   "metadata": {},
   "source": [
    "Ans7- Return value is the value that a fundtion call evaluates to. Yes return value can be used in an expression."
   ]
  },
  {
   "cell_type": "raw",
   "id": "ea2affe3",
   "metadata": {},
   "source": [
    "Q8. If a function does not have a return statement, what is the return value of a call to that function?"
   ]
  },
  {
   "cell_type": "raw",
   "id": "2be88bfd",
   "metadata": {},
   "source": [
    "Ans8- None"
   ]
  },
  {
   "cell_type": "raw",
   "id": "2a0327c8",
   "metadata": {},
   "source": [
    "Q9. How do you make a function variable refer to the global variable?"
   ]
  },
  {
   "cell_type": "raw",
   "id": "4662df2e",
   "metadata": {},
   "source": [
    "Ans9- By using a global statement"
   ]
  },
  {
   "cell_type": "raw",
   "id": "5d3c0abc",
   "metadata": {},
   "source": [
    "Q10. What is the data type of None?"
   ]
  },
  {
   "cell_type": "raw",
   "id": "64a84c6b",
   "metadata": {},
   "source": [
    "Ans10- None Type"
   ]
  },
  {
   "cell_type": "raw",
   "id": "a728a0e9",
   "metadata": {},
   "source": [
    "Q11. What does the sentence import areallyourpetsnamederic do?"
   ]
  },
  {
   "cell_type": "raw",
   "id": "b41128f4",
   "metadata": {},
   "source": [
    "Ans11- It will import the module named 'areallyourpetsnamederic'."
   ]
  },
  {
   "cell_type": "raw",
   "id": "e4f29c8d",
   "metadata": {},
   "source": [
    "Q12. If you had a bacon() feature in a spam module, what would you call it after importing spam?"
   ]
  },
  {
   "cell_type": "raw",
   "id": "d7f5ffcb",
   "metadata": {},
   "source": [
    "Ans12. import spam\n",
    "       spam.bacon()"
   ]
  },
  {
   "cell_type": "raw",
   "id": "fd86ff4e",
   "metadata": {},
   "source": [
    "Q13. What can you do to save a programme from crashing if it encounters an error?"
   ]
  },
  {
   "cell_type": "raw",
   "id": "48e991e2",
   "metadata": {},
   "source": [
    "Ans13- Use exception or error handling, by putting the error code in try clause."
   ]
  },
  {
   "cell_type": "raw",
   "id": "071ee245",
   "metadata": {},
   "source": [
    "Q14. What is the purpose of the try clause? What is the purpose of the except clause?"
   ]
  },
  {
   "cell_type": "raw",
   "id": "b0a9f27a",
   "metadata": {},
   "source": [
    "Ans14 - In try clause we put the peice of codewhich we are unsure of or that which might encounter an error.\n",
    "In the except clause we put the code which will execute one the code in try clause fails or crashes."
   ]
  }
 ],
 "metadata": {
  "kernelspec": {
   "display_name": "Python 3 (ipykernel)",
   "language": "python",
   "name": "python3"
  },
  "language_info": {
   "codemirror_mode": {
    "name": "ipython",
    "version": 3
   },
   "file_extension": ".py",
   "mimetype": "text/x-python",
   "name": "python",
   "nbconvert_exporter": "python",
   "pygments_lexer": "ipython3",
   "version": "3.11.3"
  }
 },
 "nbformat": 4,
 "nbformat_minor": 5
}
