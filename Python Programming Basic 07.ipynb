{
 "cells": [
  {
   "cell_type": "markdown",
   "id": "86dbdec3",
   "metadata": {},
   "source": [
    "1.\tWrite a Python Program to find sum of array?\n"
   ]
  },
  {
   "cell_type": "code",
   "execution_count": 14,
   "id": "3033fd73",
   "metadata": {},
   "outputs": [
    {
     "data": {
      "text/plain": [
       "130"
      ]
     },
     "execution_count": 14,
     "metadata": {},
     "output_type": "execute_result"
    }
   ],
   "source": [
    "def array_sum(arr):\n",
    "    sum=0\n",
    "    for i in arr:\n",
    "        sum+=i\n",
    "    return sum\n",
    "\n",
    "arr = [34, 50, 46]\n",
    "array_sum(arr)"
   ]
  },
  {
   "cell_type": "markdown",
   "id": "a9836b8e",
   "metadata": {},
   "source": [
    "2.\tWrite a Python Program to find largest element in an array?\n"
   ]
  },
  {
   "cell_type": "code",
   "execution_count": 26,
   "id": "e4130ea3",
   "metadata": {},
   "outputs": [
    {
     "data": {
      "text/plain": [
       "67"
      ]
     },
     "execution_count": 26,
     "metadata": {},
     "output_type": "execute_result"
    }
   ],
   "source": [
    "def largest(arr):\n",
    "    arr.sort()\n",
    "    return arr[-1]\n",
    "\n",
    "arr = [27, 45,67, 23, 63, 3, 43]\n",
    "largest(arr)"
   ]
  },
  {
   "cell_type": "code",
   "execution_count": 31,
   "id": "20a18a9a",
   "metadata": {},
   "outputs": [
    {
     "data": {
      "text/plain": [
       "70"
      ]
     },
     "execution_count": 31,
     "metadata": {},
     "output_type": "execute_result"
    }
   ],
   "source": [
    "def large(arr):\n",
    "    length = len(arr)\n",
    "    max = 0\n",
    "    for i in range(length):\n",
    "        if  arr[i] > max:\n",
    "            max = arr[i]\n",
    "    return max\n",
    "\n",
    "arr = [27, 45, 67, 23, 63, 70, 3, 43]\n",
    "large(arr)"
   ]
  },
  {
   "cell_type": "markdown",
   "id": "30d8b266",
   "metadata": {},
   "source": [
    "3.\tWrite a Python Program for array rotation?\n"
   ]
  },
  {
   "cell_type": "code",
   "execution_count": 37,
   "id": "ab84bf3e",
   "metadata": {},
   "outputs": [
    {
     "name": "stdout",
     "output_type": "stream",
     "text": [
      "[27, 45, 67, 23, 63, 70, 3, 43] \n",
      " Rotated list is: [67, 23, 63, 70, 3, 43, 27, 45]\n"
     ]
    }
   ],
   "source": [
    "def rotate(arr, d):\n",
    "#d = number of rotation\n",
    "    n = len(arr)\n",
    "    arr[:] = arr[d:n] + arr[0:d]\n",
    "    return arr\n",
    "\n",
    "\n",
    "arr = [27, 45, 67, 23, 63, 70, 3, 43]\n",
    "\n",
    "print(f\"{arr} \\n Rotated list is: {rotate(arr, 2)}\")"
   ]
  },
  {
   "cell_type": "markdown",
   "id": "86bf04c1",
   "metadata": {},
   "source": [
    "4.\tWrite a Python Program to Split the array and add the first part to the end?\n"
   ]
  },
  {
   "cell_type": "code",
   "execution_count": 51,
   "id": "0cb08a25",
   "metadata": {},
   "outputs": [
    {
     "name": "stdout",
     "output_type": "stream",
     "text": [
      "Enter position for splitting the array: 3\n",
      "[1, 2, 3, 4, 5, 6, 7, 8] \n",
      " Split array: [4, 5, 6, 7, 8, 1, 2, 3]\n"
     ]
    }
   ],
   "source": [
    "def split_array(arr, split):\n",
    "    part_1 = arr[split::]\n",
    "    part_2 = arr[:split]\n",
    "    return (part_1 + part_2)\n",
    "    \n",
    "arr = [1, 2, 3, 4, 5, 6, 7, 8]\n",
    "\n",
    "position = int(input(\"Enter position for splitting the array: \"))\n",
    "ans = split_array(arr, position)\n",
    "\n",
    "print(f\"{arr} \\n Split array: {ans}\")"
   ]
  },
  {
   "cell_type": "markdown",
   "id": "89f37b6f",
   "metadata": {},
   "source": [
    "5.\tWrite a Python Program to check if given array is Monotonic?"
   ]
  },
  {
   "cell_type": "code",
   "execution_count": 104,
   "id": "ccf7c914",
   "metadata": {},
   "outputs": [
    {
     "name": "stdout",
     "output_type": "stream",
     "text": [
      "The array [3, 6, 1, 9, 2] is not monotonic\n",
      "The array [1, 2, 3, 4, 4] is monotonic\n",
      "The array [7, 7, 4, 3, 3, 1] is monotonic\n"
     ]
    }
   ],
   "source": [
    "def check_monotonic(arr):\n",
    "    x, y = [], []\n",
    "    x.extend(arr)\n",
    "    y.extend(arr)\n",
    "    x.sort()\n",
    "    y.sort(reverse = True)\n",
    "    if x == arr or y == arr:\n",
    "        return (f'The array {arr} is monotonic')\n",
    "    else:\n",
    "        return (f'The array {arr} is not monotonic')\n",
    "\n",
    "    \n",
    "arr_1 = [3, 6, 1, 9, 2]\n",
    "arr_2 = [1, 2, 3, 4, 4]\n",
    "arr_3 = [7, 7, 4, 3, 3, 1]\n",
    "\n",
    "\n",
    "print(check_monotonic(arr_1))\n",
    "print(check_monotonic(arr_2))\n",
    "print(check_monotonic(arr_3))"
   ]
  }
 ],
 "metadata": {
  "kernelspec": {
   "display_name": "Python 3 (ipykernel)",
   "language": "python",
   "name": "python3"
  },
  "language_info": {
   "codemirror_mode": {
    "name": "ipython",
    "version": 3
   },
   "file_extension": ".py",
   "mimetype": "text/x-python",
   "name": "python",
   "nbconvert_exporter": "python",
   "pygments_lexer": "ipython3",
   "version": "3.11.3"
  }
 },
 "nbformat": 4,
 "nbformat_minor": 5
}
