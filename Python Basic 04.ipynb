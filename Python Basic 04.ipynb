{
 "cells": [
  {
   "cell_type": "markdown",
   "id": "9c2d831d",
   "metadata": {},
   "source": [
    "Q1. What exactly is [ ] ?\n",
    "\n",
    "Ans- [] or square brackets can be used to create a list. Here, [] is an empty list.\n",
    "\n",
    "[] also act as an index operator. We can use this operator to access an item from the input data."
   ]
  },
  {
   "cell_type": "code",
   "execution_count": null,
   "id": "3d3f0b51",
   "metadata": {},
   "outputs": [],
   "source": []
  },
  {
   "cell_type": "markdown",
   "id": "4ee3939d",
   "metadata": {},
   "source": [
    "Q2. In a list of values stored in a variable called spam, how would you assign the value \"hello\" as the\n",
    "third value? (Assume [2, 4, 6, 8, 10] are in spam.)\n",
    "\n",
    "Ans- Since indices start from 0; at the third place index of 6 will be 2 so using index operator we will replace it by \"hello\"."
   ]
  },
  {
   "cell_type": "code",
   "execution_count": 2,
   "id": "a1f8e3d6",
   "metadata": {},
   "outputs": [
    {
     "name": "stdout",
     "output_type": "stream",
     "text": [
      "[2, 4, 'hello', 8, 10]\n"
     ]
    }
   ],
   "source": [
    "spam=[2,4,6,8,10]\n",
    "spam[2]=\"hello\"\n",
    "print(spam)"
   ]
  },
  {
   "cell_type": "code",
   "execution_count": null,
   "id": "034505a0",
   "metadata": {},
   "outputs": [],
   "source": []
  },
  {
   "cell_type": "markdown",
   "id": "9f3e7e77",
   "metadata": {},
   "source": [
    "Let's pretend the spam includes the list ['a', 'b', 'c', 'd'] for the next three queries."
   ]
  },
  {
   "cell_type": "code",
   "execution_count": 8,
   "id": "ec5fb803",
   "metadata": {},
   "outputs": [],
   "source": [
    "spam=[\"a\",\"b\", \"c\", \"d\"]"
   ]
  },
  {
   "cell_type": "markdown",
   "id": "5a27ed9e",
   "metadata": {},
   "source": [
    "Q3. What is the value of spam [int(int('3'* 2)/ 11)]?\n",
    "\n",
    "Ans- value will be 4. The code will run as follows- \n",
    "\n",
    "=spam[int(int('33')/11)]\n",
    "\n",
    "=spam[int(33/11)]\n",
    "\n",
    "= spam[3]\n",
    "\n",
    "= d "
   ]
  },
  {
   "cell_type": "markdown",
   "id": "0832fbea",
   "metadata": {},
   "source": [
    "Q4. What is the value of spam[-1]?\n",
    "\n",
    "Ans- spam[-1] = d.\n",
    "As counting from the R.H.S./opposite the indices descends from -1"
   ]
  },
  {
   "cell_type": "markdown",
   "id": "cd0f189d",
   "metadata": {},
   "source": [
    "Q5. What is the value of spam[:2]?\n",
    "\n",
    "Ans- spam[:2] = ['a', 'b'] \n",
    "\n",
    "Since by default the starting index is 0 so it will generate the list from index 0 to 2 excluding 2."
   ]
  },
  {
   "cell_type": "code",
   "execution_count": 27,
   "id": "fbab46e2",
   "metadata": {},
   "outputs": [
    {
     "name": "stdout",
     "output_type": "stream",
     "text": [
      " a=  d \n",
      " b=  d \n",
      " c= ['a', 'b']\n"
     ]
    }
   ],
   "source": [
    "#solution for above 3 queries\n",
    "a= spam [int(int('3'* 2)/ 11)]\n",
    "b= spam[-1]\n",
    "c= spam[:2]\n",
    "print( \" a= \", a,\"\\n\",\"b= \", b,\"\\n\",\"c=\", c)"
   ]
  },
  {
   "cell_type": "markdown",
   "id": "c055a9fb",
   "metadata": {},
   "source": [
    "Let's pretend bacon has the list [3.14, 'cat', 11, 'cat', True] for the next three questions."
   ]
  },
  {
   "cell_type": "code",
   "execution_count": 46,
   "id": "370a8f0f",
   "metadata": {},
   "outputs": [],
   "source": [
    "bacon=[3.14, 'cat', 11, 'cat', True]"
   ]
  },
  {
   "cell_type": "markdown",
   "id": "78aa2278",
   "metadata": {},
   "source": [
    "Q6. What is the value of bacon.index('cat')?\n",
    "\n",
    "Ans- We know index start from 0 so index of cat will be 1."
   ]
  },
  {
   "cell_type": "code",
   "execution_count": 42,
   "id": "47045632",
   "metadata": {},
   "outputs": [
    {
     "data": {
      "text/plain": [
       "1"
      ]
     },
     "execution_count": 42,
     "metadata": {},
     "output_type": "execute_result"
    }
   ],
   "source": [
    "bacon.index('cat')"
   ]
  },
  {
   "cell_type": "markdown",
   "id": "9f5c8807",
   "metadata": {},
   "source": [
    "Q7. How does bacon.append(99) change the look of the list value in bacon?\n",
    "\n",
    "Ans- The append function adds the input at the end of the list."
   ]
  },
  {
   "cell_type": "code",
   "execution_count": 43,
   "id": "367e5629",
   "metadata": {},
   "outputs": [
    {
     "name": "stdout",
     "output_type": "stream",
     "text": [
      "[3.14, 'cat', 11, 'cat', True, 99]\n"
     ]
    }
   ],
   "source": [
    "bacon.append(99)\n",
    "print(bacon)"
   ]
  },
  {
   "cell_type": "markdown",
   "id": "eecd148b",
   "metadata": {},
   "source": [
    "Q8. How does bacon.remove('cat') change the look of the list in bacon?\n",
    "\n",
    "Ans- Remove function removes the given argument from the list. Cat is present twice in the list so it will remove the first one."
   ]
  },
  {
   "cell_type": "code",
   "execution_count": 47,
   "id": "c75b9c86",
   "metadata": {},
   "outputs": [
    {
     "name": "stdout",
     "output_type": "stream",
     "text": [
      "[3.14, 11, 'cat', True]\n"
     ]
    }
   ],
   "source": [
    "bacon.remove('cat')\n",
    "print(bacon)"
   ]
  },
  {
   "cell_type": "markdown",
   "id": "56cd6229",
   "metadata": {},
   "source": [
    "Q9. What are the list concatenation and list replication operators?\n",
    "\n",
    "Ans- The operator for list concatenation is '+' , and the operator for replication is '*'.\n",
    "Concatenation is the addition of two data types i.e. it joins the operands while Replication repeats the data for n number of times."
   ]
  },
  {
   "cell_type": "code",
   "execution_count": null,
   "id": "562242a4",
   "metadata": {},
   "outputs": [],
   "source": []
  },
  {
   "cell_type": "markdown",
   "id": "a8d7076e",
   "metadata": {},
   "source": [
    "Q10. What is difference between the list methods append() and insert()?\n",
    "\n",
    "Ans- Append() function adds value only to the end of a list and atleast one argument is required to run it, while insert() function can add them anywhere in the list and 2 arguments are required to run it."
   ]
  },
  {
   "cell_type": "code",
   "execution_count": null,
   "id": "ce0d859d",
   "metadata": {},
   "outputs": [],
   "source": []
  },
  {
   "cell_type": "markdown",
   "id": "65dc85ed",
   "metadata": {},
   "source": [
    "Q11. What are the two methods for removing items from a list?\n",
    "\n",
    "Ans- Remove() and pop() are the two methods to remove items from the list. While in remove you can enter the data directly which you wish to remove but in pop you have to enter the index of the item you want to delete."
   ]
  },
  {
   "cell_type": "code",
   "execution_count": null,
   "id": "e4e767fd",
   "metadata": {},
   "outputs": [],
   "source": []
  },
  {
   "cell_type": "markdown",
   "id": "7f197fa3",
   "metadata": {},
   "source": [
    "Q12. Describe how list values and string values are identical.\n",
    "\n",
    "Ans- List and String values both have indices.\n",
    "\n",
    "They both can operate in concatenation and replication.\n",
    "\n",
    "Both are used in for loops.\n",
    "\n",
    "Both can be passed by len() and have slices.\n",
    "\n",
    "They both can be used with and or not operators."
   ]
  },
  {
   "cell_type": "code",
   "execution_count": null,
   "id": "2a3bb86f",
   "metadata": {},
   "outputs": [],
   "source": []
  },
  {
   "cell_type": "markdown",
   "id": "e1c35d82",
   "metadata": {},
   "source": [
    "Q13. What's the difference between tuples and lists?\n",
    "\n",
    "Ans- Lists are mutable while tuples are immutable.\n",
    "\n",
    "Values can be added, changed or removed from the lists while Tuples can not be changed at all.\n",
    "\n",
    "Lists are created using square brackets [] while tuples are created using parenthesis ()."
   ]
  },
  {
   "cell_type": "code",
   "execution_count": null,
   "id": "b1e50426",
   "metadata": {},
   "outputs": [],
   "source": []
  },
  {
   "cell_type": "markdown",
   "id": "d75e6380",
   "metadata": {},
   "source": [
    "Q14. How do you type a tuple value that only contains the integer 42?\n",
    "\n",
    "Ans- t=(42,)\n",
    "Putiing comma is mandatory as without the comma t will act as a variable which has been assigned the integer value 42."
   ]
  },
  {
   "cell_type": "code",
   "execution_count": null,
   "id": "5fa453b7",
   "metadata": {},
   "outputs": [],
   "source": []
  },
  {
   "cell_type": "markdown",
   "id": "e0e911bf",
   "metadata": {},
   "source": [
    "Q15. How do you get a list value's tuple form? How do you get a tuple value's list form?\n",
    "\n",
    "Ans- Using the function tuple() and list().\n",
    "For eg- "
   ]
  },
  {
   "cell_type": "code",
   "execution_count": 69,
   "id": "1a18be04",
   "metadata": {},
   "outputs": [
    {
     "name": "stdout",
     "output_type": "stream",
     "text": [
      "[1, 2, 3, 'fdseewd', True] = <class 'list'>\n",
      "After using the tuple function the type of l is  \n",
      " (1, 2, 3, 'fdseewd', True) = <class 'tuple'>\n"
     ]
    }
   ],
   "source": [
    "l=[1,2,3,\"fdseewd\", True]\n",
    "print(l, \"=\", type(l))\n",
    "x=tuple(l)\n",
    "print(\"After using the tuple function the type of l is \", \"\\n\", x, \"=\",type(x))"
   ]
  },
  {
   "cell_type": "code",
   "execution_count": 70,
   "id": "b0279686",
   "metadata": {},
   "outputs": [
    {
     "name": "stdout",
     "output_type": "stream",
     "text": [
      "(9, 8, 7, 'gunjnlk', False) = <class 'tuple'>\n",
      "After using the list function the type of t is  \n",
      " [9, 8, 7, 'gunjnlk', False] = <class 'list'>\n"
     ]
    }
   ],
   "source": [
    "t=(9,8,7,\"gunjnlk\", False)\n",
    "print(t, \"=\", type(t))\n",
    "y=list(t)\n",
    "print(\"After using the list function the type of t is \", \"\\n\", y, \"=\",type(y))"
   ]
  },
  {
   "cell_type": "code",
   "execution_count": null,
   "id": "f57d8571",
   "metadata": {},
   "outputs": [],
   "source": []
  },
  {
   "cell_type": "markdown",
   "id": "24bfc1c5",
   "metadata": {},
   "source": [
    "Q16. Variables that \"contain\" list values are not necessarily lists themselves. Instead, what do they\n",
    "contain?\n",
    "\n",
    "Ans- They are the references to list values."
   ]
  },
  {
   "cell_type": "code",
   "execution_count": null,
   "id": "d4180065",
   "metadata": {},
   "outputs": [],
   "source": []
  },
  {
   "cell_type": "markdown",
   "id": "665537b4",
   "metadata": {},
   "source": [
    "Q17. How do you distinguish between copy.copy() and copy.deepcopy()?\n",
    "\n",
    "Ans- copy.copy() will copy the entire list temporarily while the copy.deepcopy() will copy even nested list and duplicate it."
   ]
  },
  {
   "cell_type": "code",
   "execution_count": null,
   "id": "66110af5",
   "metadata": {},
   "outputs": [],
   "source": []
  }
 ],
 "metadata": {
  "kernelspec": {
   "display_name": "Python 3 (ipykernel)",
   "language": "python",
   "name": "python3"
  },
  "language_info": {
   "codemirror_mode": {
    "name": "ipython",
    "version": 3
   },
   "file_extension": ".py",
   "mimetype": "text/x-python",
   "name": "python",
   "nbconvert_exporter": "python",
   "pygments_lexer": "ipython3",
   "version": "3.9.7"
  }
 },
 "nbformat": 4,
 "nbformat_minor": 5
}
