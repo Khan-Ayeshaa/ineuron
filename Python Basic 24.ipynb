{
 "cells": [
  {
   "cell_type": "markdown",
   "id": "dd21cd83",
   "metadata": {},
   "source": [
    "1. What is the relationship between def statements and lambda expressions ?\n",
    "\n",
    "Ans - The def statements are used to define normal functions usually in more than one line.\n",
    "While the lambda expressions are used to define anonymous functions. They are usually single liner code and are not defined."
   ]
  },
  {
   "cell_type": "markdown",
   "id": "d54e357f",
   "metadata": {},
   "source": [
    "2. What is the benefit of lambda?\n",
    "\n",
    "Ans- They require a fewer lines  of code. They are temporary functions and are called immedialtely at the end of the definition using lambda function."
   ]
  },
  {
   "cell_type": "markdown",
   "id": "db21ddd1",
   "metadata": {},
   "source": [
    "3. Compare and contrast map, filter, and reduce.\n",
    "\n",
    "Ans- The map() function iterates through all items in the given iterable and executes the function we passed as an argument on each of them.\n",
    "\n",
    "The filter() function, as the name suggests iterates through all the items in the given iterable and forms a new list that contains only elements that satisfy a certain condition by filtering out the things for us.\n",
    "\n",
    "The reduce() function returns a simgle value. To use this function we need to import reduce from functools module."
   ]
  },
  {
   "cell_type": "code",
   "execution_count": 2,
   "id": "d1702e40",
   "metadata": {},
   "outputs": [
    {
     "name": "stdout",
     "output_type": "stream",
     "text": [
      "[25, 16, 9]\n"
     ]
    }
   ],
   "source": [
    "#Using map()\n",
    "list_1 = [5, 4, 3]\n",
    "print(list(map(lambda items: items**2, list_1)))"
   ]
  },
  {
   "cell_type": "code",
   "execution_count": 3,
   "id": "e3076dca",
   "metadata": {},
   "outputs": [
    {
     "name": "stdout",
     "output_type": "stream",
     "text": [
      "[2, 4, 6]\n"
     ]
    }
   ],
   "source": [
    "#Using filter()\n",
    "list_2 = [1,2,3,4,5,6]\n",
    "print(list(filter(lambda items: items%2 == 0, list_2)))"
   ]
  },
  {
   "cell_type": "code",
   "execution_count": 4,
   "id": "53d63ec8",
   "metadata": {},
   "outputs": [
    {
     "name": "stdout",
     "output_type": "stream",
     "text": [
      "16\n"
     ]
    }
   ],
   "source": [
    "#Using reduce()\n",
    "from functools import reduce\n",
    "\n",
    "list_3 = [2, 4, 7, 3]\n",
    "print(reduce(lambda x, y: x + y, list_3))"
   ]
  },
  {
   "cell_type": "markdown",
   "id": "c84e80a1",
   "metadata": {},
   "source": [
    "4. What are function annotations, and how are they used?\n",
    "\n",
    "Ans- Function annotations are arbitrary python expressions that are associated with various part of functions.\n",
    "They can be accessed using the ‘__annotations__’ attribute.\n",
    "\n",
    "They make the code more readable by specifying the type for input arguments as well as the return value of the function.\n",
    "They can be a data type specification or some other expression for simple parameters or excess paramenters (*args, **kwargs)\n",
    "\n",
    "def func(x: 'int' = 10)\n",
    "Function annotations are also used for nested parameters as well as for the type of return values (shown by a symbol ->)."
   ]
  },
  {
   "cell_type": "markdown",
   "id": "88ff1466",
   "metadata": {},
   "source": [
    "5. What are recursive functions, and how are they used?\n",
    "\n",
    "Ans- Recursion is the process of determining something in terms of itself.\n",
    "A recursive function can be defined as a routine that calls itself directly or indirectly.\n",
    "\n",
    "It has two portions: Recursive case where the function calls on itself and the Base case where the limit of recursion is set."
   ]
  },
  {
   "cell_type": "code",
   "execution_count": 5,
   "id": "51d30806",
   "metadata": {},
   "outputs": [
    {
     "name": "stdout",
     "output_type": "stream",
     "text": [
      "24\n"
     ]
    }
   ],
   "source": [
    "#Using recursive function to find a factorial of the number\n",
    "def factorial(num):\n",
    "    if num == 1: # Set base case\n",
    "        return num\n",
    "\n",
    "    else: # This is the recursive case\n",
    "        return(num * factorial(num-1))\n",
    "\n",
    "print(factorial(4))"
   ]
  },
  {
   "cell_type": "markdown",
   "id": "30ccb445",
   "metadata": {},
   "source": [
    "6. What are some general design guidelines for coding functions?\n",
    "\n",
    "Ans-  Using 4-space indentation and no tabs.\n",
    "\n",
    "Using docstrings to define a particular program or a function.(\"\"\"ccfgvhb hjkm\"\"\")\n",
    "\n",
    "Using updated comments regularly.\n",
    "\n",
    "Use spaces around operators and after commas, but not directly inside bracketing constructs.\n",
    "\n",
    "Using CamelCase for classes and lower_case_with_underscores for functions and methods.\n",
    "\n",
    "While naming of function of methods always use self for the first argument."
   ]
  },
  {
   "cell_type": "markdown",
   "id": "717f70d3",
   "metadata": {},
   "source": [
    "7. Name three or more ways that functions can communicate results to a caller.\n",
    "\n",
    "Ans- In python, we can call a function using:\n",
    "\n",
    "Required argument: Arguments that are passed to a function in sequential order i.e. the number of arguments defined in a function should match with the function definition.\n",
    "\n",
    "Keyworded argument: the caller identifies the arguments by the argument name.\n",
    "\n",
    "Default argument: When a function is called without any arguments, then it uses the default argument.\n",
    "\n",
    "Variable-length arguments: If you want to use more arguments in a function than what you specified while defining a function, then we use *args or **kwargs."
   ]
  }
 ],
 "metadata": {
  "kernelspec": {
   "display_name": "Python 3 (ipykernel)",
   "language": "python",
   "name": "python3"
  },
  "language_info": {
   "codemirror_mode": {
    "name": "ipython",
    "version": 3
   },
   "file_extension": ".py",
   "mimetype": "text/x-python",
   "name": "python",
   "nbconvert_exporter": "python",
   "pygments_lexer": "ipython3",
   "version": "3.11.3"
  }
 },
 "nbformat": 4,
 "nbformat_minor": 5
}
