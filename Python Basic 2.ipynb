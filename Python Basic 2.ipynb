{
 "cells": [
  {
   "cell_type": "markdown",
   "id": "e8946674",
   "metadata": {},
   "source": [
    "Q1.What are the two values of the Boolean data type? How do you write them?\n",
    "\n",
    "Ans- True and False are the two values of boolean datatype. True indicates 1 whereas False indicates 0. \n",
    "\n"
   ]
  },
  {
   "cell_type": "code",
   "execution_count": null,
   "id": "86116561",
   "metadata": {},
   "outputs": [],
   "source": []
  },
  {
   "cell_type": "markdown",
   "id": "9fe8068b",
   "metadata": {},
   "source": [
    "\n",
    "Q2. What are the three different types of Boolean operators?\n",
    "\n",
    "Ans- Three different types of Boolean Operators are AND (AandB), OR (AorB) and NOT (not A).\n"
   ]
  },
  {
   "cell_type": "code",
   "execution_count": null,
   "id": "bde49939",
   "metadata": {},
   "outputs": [],
   "source": []
  },
  {
   "cell_type": "markdown",
   "id": "5db995de",
   "metadata": {},
   "source": [
    "Q3. Make a list of each Boolean operator's truth tables (i.e. every possible combination of Boolean\n",
    "values for the operator and what it evaluate).\n",
    "\n",
    "Ans- Boolean OR operator returns True if any one of the inputs is True else returns False.\n",
    "  \n",
    " True OR True =\tTrue \n",
    " \n",
    " True OR False = True\n",
    " \n",
    " False OR True = True\n",
    " \n",
    " False OR False = False\n",
    " \n",
    " Boolean AND operator returns False if any one of the inputs is False else returns True.\n",
    "  \n",
    "  True AND True\t= True \n",
    " \n",
    " True AND False\t= False \n",
    " \n",
    " False AND True\t= False \n",
    " \n",
    " False AND False = False\n",
    " \n",
    " Boolean NOT operator returns the True for False and False for True.  \n",
    " \n",
    " notTrue = False \n",
    " \n",
    " notFalse = True"
   ]
  },
  {
   "cell_type": "code",
   "execution_count": null,
   "id": "205b173f",
   "metadata": {},
   "outputs": [],
   "source": []
  },
  {
   "cell_type": "markdown",
   "id": "bc894ee5",
   "metadata": {},
   "source": [
    "Q4. What are the values of the following expressions?\n",
    "\n",
    "Ans- (5 > 4) and (3 == 5) : True and False : False\n",
    "\n",
    "      not (5 > 4) : not True : False\n",
    "      \n",
    "     (5 > 4) or (3 == 5) : True or False : True\n",
    "     \n",
    "     not ((5>4) or (3 == 5)) : not((True) or (False)) : not True : False\n",
    "     \n",
    "     (True and True) and (True == False) : True and False : False\n",
    "     \n",
    "     (not False) or (not True) : True or False : True"
   ]
  },
  {
   "cell_type": "code",
   "execution_count": null,
   "id": "26b047fd",
   "metadata": {},
   "outputs": [],
   "source": []
  },
  {
   "cell_type": "markdown",
   "id": "7fc23502",
   "metadata": {},
   "source": [
    "Q5. What are the six comparison operators?\n",
    "\n",
    "Ans- \n",
    "      \n",
    "      ==\t   Equal   (x == y)\n",
    "\n",
    "      !=\t Not equal (x != y)\n",
    "\n",
    "      >\t Greater than (x > y)\n",
    "\n",
    "      < \t Less than (x < y)\n",
    "\n",
    "      >=   Greater than or equal to (x >= y)\n",
    "\n",
    "      <=\t Less than or equal to (x <= y)"
   ]
  },
  {
   "cell_type": "code",
   "execution_count": null,
   "id": "f659a52a",
   "metadata": {},
   "outputs": [],
   "source": []
  },
  {
   "cell_type": "markdown",
   "id": "e095a141",
   "metadata": {},
   "source": [
    "Q6. How do you tell the difference between the equal to and assignment operators?Describe a\n",
    "condition and when you would use one.\n",
    "\n",
    "Ans- Equal to operator symbolized by (==) is used to compare the two values and return True or False in a output whereas; Assignment operator symbolized by (=) is used to assign values to the variables."
   ]
  },
  {
   "cell_type": "code",
   "execution_count": 20,
   "id": "833c8f13",
   "metadata": {},
   "outputs": [
    {
     "name": "stdout",
     "output_type": "stream",
     "text": [
      "a is 5\n",
      "b is 5\n",
      "two numbers are similar.\n"
     ]
    }
   ],
   "source": [
    "#For example\n",
    "\"\"\"Here to assign an integer to the variable a and b assignment operator = is used\n",
    "and to compare the values of a and b equal to == is used\"\"\"\n",
    "a = int(input(\"a is \")) \n",
    "b = int(input(\"b is \"))\n",
    "if a==b: \n",
    "    print(\"two numbers are similar.\")\n",
    "else:\n",
    "    print(\"not similar\")"
   ]
  },
  {
   "cell_type": "code",
   "execution_count": null,
   "id": "0eb26a8f",
   "metadata": {},
   "outputs": [],
   "source": []
  },
  {
   "cell_type": "markdown",
   "id": "20681622",
   "metadata": {},
   "source": [
    "Q7. Identify the three blocks in this code:\n",
    "spam = 0\n",
    "\n",
    "\n",
    "if spam == 10:\n",
    "\n",
    "print('eggs')\n",
    "\n",
    "if spam > 5:\n",
    "\n",
    "print('bacon')\n",
    "\n",
    "else:\n",
    "\n",
    "print('ham')\n",
    "\n",
    "print('spam')\n",
    "\n",
    "print('spam')\n"
   ]
  },
  {
   "cell_type": "code",
   "execution_count": 19,
   "id": "3b6b5291",
   "metadata": {},
   "outputs": [
    {
     "name": "stdout",
     "output_type": "stream",
     "text": [
      "ham\n",
      "spam\n",
      "spam\n"
     ]
    }
   ],
   "source": [
    "#Ans - In the above code Indentation Error occurs. To rectify it we need to provide certain blocks. Thus, correct code will be-\n",
    "spam = 0\n",
    "if spam == 10:\n",
    "    print('eggs')\n",
    "if spam > 5:\n",
    "    print('bacon')\n",
    "else:\n",
    "    print('ham')\n",
    "    print('spam')\n",
    "    print('spam')"
   ]
  },
  {
   "cell_type": "code",
   "execution_count": null,
   "id": "91075bd4",
   "metadata": {},
   "outputs": [],
   "source": []
  },
  {
   "cell_type": "markdown",
   "id": "2f9ddb25",
   "metadata": {},
   "source": [
    "Q8. Write code that prints Hello if 1 is stored in spam, prints Howdy if 2 is stored in spam, and prints\n",
    "Greetings! if anything else is stored in spam."
   ]
  },
  {
   "cell_type": "code",
   "execution_count": 17,
   "id": "5d33aa70",
   "metadata": {},
   "outputs": [
    {
     "name": "stdout",
     "output_type": "stream",
     "text": [
      "spam = 1\n",
      "Hello\n"
     ]
    }
   ],
   "source": [
    "spam = int(input(\"spam = \"))\n",
    "if spam==1:\n",
    "    print(\"Hello\")\n",
    "elif spam==2:\n",
    "    print(\"Howdy\")\n",
    "else:\n",
    "    print(\"Greetings!\")"
   ]
  },
  {
   "cell_type": "code",
   "execution_count": null,
   "id": "c307be51",
   "metadata": {},
   "outputs": [],
   "source": []
  },
  {
   "cell_type": "markdown",
   "id": "452d5d0b",
   "metadata": {},
   "source": [
    "Q9. If your programme is stuck in an endless loop, what keys you’ll press?\n",
    "\n",
    "Ans- The break statement is used to exit out of an endless loop.\n",
    "\n",
    "Ctrl+C can be used to terminate the endless loop code.\n"
   ]
  },
  {
   "cell_type": "code",
   "execution_count": null,
   "id": "807bc8f9",
   "metadata": {},
   "outputs": [],
   "source": []
  },
  {
   "cell_type": "markdown",
   "id": "f2b0c0a9",
   "metadata": {},
   "source": [
    "Q10. How can you tell the difference between break and continue?\n",
    "\n",
    "Ans- Break statement stops the loop in which the statement is placed. \n",
    "\n",
    "Continue statement skips a single iteration in a loop.\n"
   ]
  },
  {
   "cell_type": "code",
   "execution_count": null,
   "id": "04a702c8",
   "metadata": {},
   "outputs": [],
   "source": []
  },
  {
   "cell_type": "markdown",
   "id": "ca22dada",
   "metadata": {},
   "source": [
    "Q11. In a for loop, what is the difference between range(10), range(0, 10), and range(0, 10, 1)?\n",
    "\n",
    "Ans- range(10) : This by default considers the starting point as zero and generates the sequence from 0 to 9.\n",
    "\n",
    "range(0, 10) : This generates the sequence based on the start and stop value. Hence gives the sequence from 0 to 9.\n",
    "\n",
    "range(0, 10, 1) : It generates the sequence from the start value using the step size until it reaches the stop value. In this is it gives the sequence from 0 to 9 incrementing with 1 step each.\n"
   ]
  },
  {
   "cell_type": "code",
   "execution_count": null,
   "id": "b0ce4c35",
   "metadata": {},
   "outputs": [],
   "source": []
  },
  {
   "cell_type": "markdown",
   "id": "dc2a63ac",
   "metadata": {},
   "source": [
    "Q12. Write a short program that prints the numbers 1 to 10 using a for loop. Then write an equivalent\n",
    "program that prints the numbers 1 to 10 using a while loop."
   ]
  },
  {
   "cell_type": "code",
   "execution_count": null,
   "id": "fea18892",
   "metadata": {},
   "outputs": [],
   "source": [
    "#Ans- Using a for loop\n",
    "\n",
    "for i in range(1, 11):\n",
    "    print(i)\n",
    "    \n",
    "#Using a while loop\n",
    "\n",
    "i = 1\n",
    "while(i<=10):\n",
    "    print(i)\n",
    "    i += 1   \n",
    "    "
   ]
  },
  {
   "cell_type": "markdown",
   "id": "e04311d1",
   "metadata": {},
   "source": [
    "Q13. If you had a function named bacon() inside a module named spam, how would you call it after\n",
    "importing spam?\n",
    "\n",
    "Ans- spam.bacon()"
   ]
  },
  {
   "cell_type": "code",
   "execution_count": null,
   "id": "12675c7a",
   "metadata": {},
   "outputs": [],
   "source": []
  }
 ],
 "metadata": {
  "kernelspec": {
   "display_name": "Python 3 (ipykernel)",
   "language": "python",
   "name": "python3"
  },
  "language_info": {
   "codemirror_mode": {
    "name": "ipython",
    "version": 3
   },
   "file_extension": ".py",
   "mimetype": "text/x-python",
   "name": "python",
   "nbconvert_exporter": "python",
   "pygments_lexer": "ipython3",
   "version": "3.9.7"
  }
 },
 "nbformat": 4,
 "nbformat_minor": 5
}
