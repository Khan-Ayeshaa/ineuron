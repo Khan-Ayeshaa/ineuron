{
 "cells": [
  {
   "cell_type": "markdown",
   "id": "b901a887",
   "metadata": {},
   "source": [
    "Q1. Write a Python program to print \"Hello Python\"?"
   ]
  },
  {
   "cell_type": "code",
   "execution_count": 6,
   "id": "57b37749",
   "metadata": {},
   "outputs": [
    {
     "name": "stdout",
     "output_type": "stream",
     "text": [
      " Hello Python \n"
     ]
    }
   ],
   "source": [
    "print(\" Hello Python \")"
   ]
  },
  {
   "cell_type": "markdown",
   "id": "c4df48be",
   "metadata": {},
   "source": [
    "Q2. Write a Python program to do arithmetical operations addition and division?"
   ]
  },
  {
   "cell_type": "code",
   "execution_count": 11,
   "id": "fdbd7417",
   "metadata": {},
   "outputs": [
    {
     "name": "stdout",
     "output_type": "stream",
     "text": [
      "a = 50\n",
      "b = 10\n",
      "a+b = 60.0\n",
      "a/b = 5.0\n"
     ]
    }
   ],
   "source": [
    "#program to do addition and division of a and b\n",
    "a= float(input(\"a = \"))\n",
    "b= float(input(\"b = \"))\n",
    "#simply input a & b and below operations will display the output after operations.\n",
    "print(\"a+b =\", a+b)\n",
    "print(\"a/b =\", a/b)"
   ]
  },
  {
   "cell_type": "markdown",
   "id": "d246b609",
   "metadata": {},
   "source": [
    "Q3. Write a Python program to find the area of a triangle?"
   ]
  },
  {
   "cell_type": "code",
   "execution_count": 1,
   "id": "4b600f5e",
   "metadata": {},
   "outputs": [
    {
     "name": "stdout",
     "output_type": "stream",
     "text": [
      "height = 15\n",
      "base = 20\n",
      "The area of the triangle is  150.0\n"
     ]
    }
   ],
   "source": [
    "#Area of triangle is b*h/2\n",
    "#input base and height\n",
    "h= float(input(\"height = \"))\n",
    "b= float(input(\"base = \"))\n",
    "\n",
    "# calculate the area\n",
    "area = (b*h)/2\n",
    "print(\"The area of the triangle is \", area) "
   ]
  },
  {
   "cell_type": "markdown",
   "id": "71e45695",
   "metadata": {},
   "source": [
    "Q4. Write a Python program to swap two variables?"
   ]
  },
  {
   "cell_type": "code",
   "execution_count": 1,
   "id": "06d47f07",
   "metadata": {},
   "outputs": [
    {
     "name": "stdout",
     "output_type": "stream",
     "text": [
      "variable a is 5\n",
      "variable b is 10\n",
      "a = 10\n",
      "b = 5\n"
     ]
    }
   ],
   "source": [
    "# Program to swap two variables\n",
    "a=int(input(\"variable a is \"))\n",
    "b=int(input(\"variable b is \"))\n",
    "a, b = b, a\n",
    "print(\"a =\", a)\n",
    "print(\"b =\", b)"
   ]
  },
  {
   "cell_type": "markdown",
   "id": "feebc9a9",
   "metadata": {},
   "source": [
    "Q5. Write a Python program to generate a random number?"
   ]
  },
  {
   "cell_type": "code",
   "execution_count": 24,
   "id": "76ba1fd5",
   "metadata": {},
   "outputs": [
    {
     "name": "stdout",
     "output_type": "stream",
     "text": [
      "0.9259713786158638\n"
     ]
    }
   ],
   "source": [
    "# Program to generate a random number\n",
    "import random\n",
    "n= random.random()\n",
    "print(n)"
   ]
  },
  {
   "cell_type": "code",
   "execution_count": null,
   "id": "38a4c3b2",
   "metadata": {},
   "outputs": [],
   "source": []
  }
 ],
 "metadata": {
  "kernelspec": {
   "display_name": "Python 3 (ipykernel)",
   "language": "python",
   "name": "python3"
  },
  "language_info": {
   "codemirror_mode": {
    "name": "ipython",
    "version": 3
   },
   "file_extension": ".py",
   "mimetype": "text/x-python",
   "name": "python",
   "nbconvert_exporter": "python",
   "pygments_lexer": "ipython3",
   "version": "3.9.7"
  }
 },
 "nbformat": 4,
 "nbformat_minor": 5
}
