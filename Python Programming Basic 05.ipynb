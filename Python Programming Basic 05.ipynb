{
 "cells": [
  {
   "cell_type": "markdown",
   "id": "dbe154fa",
   "metadata": {},
   "source": [
    "1.\tWrite a Python Program to Find LCM?\n"
   ]
  },
  {
   "cell_type": "code",
   "execution_count": 2,
   "id": "3475927b",
   "metadata": {},
   "outputs": [
    {
     "data": {
      "text/plain": [
       "21"
      ]
     },
     "execution_count": 2,
     "metadata": {},
     "output_type": "execute_result"
    }
   ],
   "source": [
    "def lcm(num1, num2):\n",
    "    \n",
    "    if num1 > num2:\n",
    "        greater = num1\n",
    "    else:\n",
    "        greater = num2\n",
    "\n",
    "    while True:\n",
    "        if (greater % num1 == 0) and (greater % num2 == 0):\n",
    "            lcm = greater\n",
    "            break\n",
    "        greater += 1\n",
    "\n",
    "    return lcm\n",
    "\n",
    "lcm(7, 3)"
   ]
  },
  {
   "cell_type": "markdown",
   "id": "6b12ef9b",
   "metadata": {},
   "source": [
    "2.\tWrite a Python Program to Find HCF?\n"
   ]
  },
  {
   "cell_type": "code",
   "execution_count": 7,
   "id": "adcbd594",
   "metadata": {},
   "outputs": [
    {
     "data": {
      "text/plain": [
       "4"
      ]
     },
     "execution_count": 7,
     "metadata": {},
     "output_type": "execute_result"
    }
   ],
   "source": [
    "def hcf(num1, num2):\n",
    "    \n",
    "    if num1 < num2:\n",
    "        smaller = num1\n",
    "    else:\n",
    "        smaller = num2\n",
    "        \n",
    "    for i in range(1, smaller+1):\n",
    "        if num1 % i == 0 and num2 % i == 0:\n",
    "            hcf = i\n",
    "    return hcf\n",
    "\n",
    "hcf(4, 16)"
   ]
  },
  {
   "cell_type": "markdown",
   "id": "299640de",
   "metadata": {},
   "source": [
    "3.\tWrite a Python Program to Convert Decimal to Binary, Octal and Hexadecimal?\n"
   ]
  },
  {
   "cell_type": "code",
   "execution_count": 11,
   "id": "2d5d9695",
   "metadata": {},
   "outputs": [
    {
     "name": "stdout",
     "output_type": "stream",
     "text": [
      "Enter a decimal number: 10\n",
      "Binary number:  1010\n",
      "Octal number:  12\n",
      "Hexadecimal number:  a\n"
     ]
    }
   ],
   "source": [
    "decimal_number = int(input('Enter a decimal number: '))\n",
    "\n",
    "#Convert to Binary\n",
    "binary_number = bin(decimal_number)\n",
    "print('Binary number: ', binary_number[2:])\n",
    "\n",
    "#Convert to Octal\n",
    "octal_number = oct(decimal_number)\n",
    "print('Octal number: ', octal_number[2:])\n",
    "\n",
    "#Convert to Hexadecimal\n",
    "hexadecimal_number = hex(decimal_number)\n",
    "print('Hexadecimal number: ', hexadecimal_number[2:])"
   ]
  },
  {
   "cell_type": "markdown",
   "id": "ea0846de",
   "metadata": {},
   "source": [
    "4.\tWrite a Python Program To Find ASCII value of a character?\n"
   ]
  },
  {
   "cell_type": "code",
   "execution_count": 15,
   "id": "b088c150",
   "metadata": {},
   "outputs": [
    {
     "name": "stdout",
     "output_type": "stream",
     "text": [
      "Enter any characterz\n",
      "The ASCII value of z is 122\n"
     ]
    }
   ],
   "source": [
    "#We can find the ASCII value using ord()\n",
    "character = input('Enter any character')\n",
    "Ascii = ord(character)\n",
    "\n",
    "print(f'The ASCII value of {character} is {Ascii}')"
   ]
  },
  {
   "cell_type": "markdown",
   "id": "cfd4843e",
   "metadata": {},
   "source": [
    "5.\tWrite a Python Program to Make a Simple Calculator with 4 basic mathematical operations?"
   ]
  },
  {
   "cell_type": "code",
   "execution_count": 22,
   "id": "5d1c05e5",
   "metadata": {},
   "outputs": [
    {
     "name": "stdout",
     "output_type": "stream",
     "text": [
      "Enter first number: 1100\n",
      "Enter second number: 535\n",
      "1- Add \n",
      "2- Subtract \n",
      "3- Multiply \n",
      "4- Divide\n",
      "Enter choice 1/2/3/4: 4\n",
      " 1100 / 535 = 2.05607476635514\n"
     ]
    }
   ],
   "source": [
    "def add(x, y):\n",
    "    return x+y\n",
    "\n",
    "def subtract(x, y):\n",
    "    return x-y\n",
    "\n",
    "def multiply(x, y):\n",
    "    return x*y\n",
    "\n",
    "def divide(x, y):\n",
    "    return x/y\n",
    "\n",
    "\n",
    "num1 = int(input('Enter first number: '))\n",
    "num2 = int(input('Enter second number: '))\n",
    "\n",
    "print('1- Add \\n2- Subtract \\n3- Multiply \\n4- Divide')\n",
    "\n",
    "choice = int(input('Enter choice 1/2/3/4: '))\n",
    "\n",
    "if 0 < choice < 5:\n",
    "    if choice == 1:\n",
    "        print(f' {num1} + {num2} = {num1+num2}')\n",
    "        \n",
    "    if choice == 2:\n",
    "        print(f' {num1} - {num2} = {num1-num2}')\n",
    "        \n",
    "    if choice == 3:\n",
    "        print(f' {num1} x {num2} = {num1*num2}')\n",
    "        \n",
    "    if choice == 4:\n",
    "        print(f' {num1} / {num2} = {num1/num2}')\n",
    "\n",
    "else:\n",
    "    print('Enter a valid choice')"
   ]
  }
 ],
 "metadata": {
  "kernelspec": {
   "display_name": "Python 3 (ipykernel)",
   "language": "python",
   "name": "python3"
  },
  "language_info": {
   "codemirror_mode": {
    "name": "ipython",
    "version": 3
   },
   "file_extension": ".py",
   "mimetype": "text/x-python",
   "name": "python",
   "nbconvert_exporter": "python",
   "pygments_lexer": "ipython3",
   "version": "3.11.3"
  }
 },
 "nbformat": 4,
 "nbformat_minor": 5
}
