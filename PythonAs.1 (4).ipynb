{
 "cells": [
  {
   "cell_type": "markdown",
   "id": "adcec688",
   "metadata": {},
   "source": [
    "Q1. In the below elements which of them are values or an expression? eg:- values can be\n",
    "integer or string and expressions will be mathematical operators.\n",
    "Ans -\n",
    "* : Expression (Addition)\n",
    "'hello' : Value (String)\n",
    "-87.8 : Value (Floating Number)\n",
    "- : Expression (Subtraction)\n",
    "/ : Expression (Division)\n",
    "+ : Expression (Addition)\n",
    "6 : Value (integer)"
   ]
  },
  {
   "cell_type": "markdown",
   "id": "7f2a463b",
   "metadata": {},
   "source": [
    "Q2. What is the difference between string and variable?\n",
    "Ans -\n",
    "String - Combination of letters or words. Strings can be assigned to a variable.\n",
    "Variable - Variable is a kind of entity which helps us to hold values inside RAM. We assign a certain value to the variable to create it. Variable names can contain letters or numbers."
   ]
  },
  {
   "cell_type": "markdown",
   "id": "947c597c",
   "metadata": {},
   "source": [
    "Q3. Describe three different data types.\n",
    "Ans -\n",
    "Three different types of data types are-\n",
    "Integer (Int) - Combination of digits/numbers.\n",
    "String (Str) - Combination of letters\n",
    "Boolean (bool) - True/False\n",
    "Examples of each are explained below."
   ]
  },
  {
   "cell_type": "code",
   "execution_count": 1,
   "id": "a2385c76",
   "metadata": {},
   "outputs": [
    {
     "data": {
      "text/plain": [
       "(int, str, bool)"
      ]
     },
     "execution_count": 1,
     "metadata": {},
     "output_type": "execute_result"
    }
   ],
   "source": [
    "a,b,c= 23,\"ayesha\",True\n",
    "type(a), type(b), type(c)"
   ]
  },
  {
   "cell_type": "markdown",
   "id": "fbcac6e9",
   "metadata": {},
   "source": [
    "Q4. What is an expression made up of? What do all expressions do?\n",
    "Ans - \n",
    "Expressions are mathematical operators. Mathematical operators contains + (Addition),\t- (Subtraction), * (Multiplication), / (Division) etc.These operators helps to combine two values of same type i.e. Str+Str or Int+Int to give a new value."
   ]
  },
  {
   "cell_type": "markdown",
   "id": "15fe51a0",
   "metadata": {},
   "source": [
    "Q5. This assignment statements, like spam = 10. What is the difference between an expression and a statement?\n",
    "Ans - \n",
    "An expression is a combination of values, variables, and operators. Expressions are parts of statements that returns some value.\n",
    "Statements are composed of expressions. Everything in python that can make up a line is statement."
   ]
  },
  {
   "cell_type": "markdown",
   "id": "ecefdfea",
   "metadata": {},
   "source": [
    "Q6. After running the following code, what does the variable bacon contain?\n",
    "bacon = 22\n",
    "bacon + 1\n",
    "Ans - \n",
    "The variable bacon will contain 22 only.\n",
    "We have already assigned 22 to bacon so in the next step bacon+1 will give 23 but will not be assigned to bacon unless we do it manually. So bacon=22."
   ]
  },
  {
   "cell_type": "markdown",
   "id": "cb61f625",
   "metadata": {},
   "source": [
    "Q7. What should the values of the following two terms be?\n",
    "Ans - \n",
    "'spam' + 'spamspam' = spamspamspam \n",
    "'spam'*3 = spamspamspam\n",
    "In case of Strings concatenation takes place."
   ]
  },
  {
   "cell_type": "markdown",
   "id": "51064fbb",
   "metadata": {},
   "source": [
    "Q8. Why is eggs a valid variable name while 100 is invalid?\n",
    "Ans - \n",
    "Eggs is a valid variable because it is a combination of strings but 100 is not as it is a combination of integers.\n",
    "Variable names can only contain letters or alphanumeric names. Only numbers will be invalid."
   ]
  },
  {
   "cell_type": "markdown",
   "id": "d93ba989",
   "metadata": {},
   "source": [
    "Q9. What three functions can be used to get the integer, floating-point number, or string\n",
    "version of a value?\n",
    "Ans -\n",
    "Let XYZ be a value.\n",
    "To get the Integer version  of the value we use, int(XYZ)\n",
    "To get the floating-point number version of the value we use, float(XYZ)\n",
    "To get the string version  of the value we use, str(XYZ)."
   ]
  },
  {
   "cell_type": "markdown",
   "id": "35430600",
   "metadata": {},
   "source": [
    "Q10. Why does this expression cause an error? How can you fix it?\n",
    "'I have eaten' + 99 + 'burritos.'\n",
    "Ans - \n",
    "The above statement causes error because 'I have eaten' and 'burritos' are string types and 99 is an integer. Thus, python does not allow the addition of string with integer. To fix it we have to convert integer value to its string version by applying the function str() before it as shown below."
   ]
  },
  {
   "cell_type": "code",
   "execution_count": 2,
   "id": "0fccf28a",
   "metadata": {},
   "outputs": [
    {
     "data": {
      "text/plain": [
       "'I have eaten99burritos.'"
      ]
     },
     "execution_count": 2,
     "metadata": {},
     "output_type": "execute_result"
    }
   ],
   "source": [
    "'I have eaten'  + str(99) +  'burritos.'"
   ]
  },
  {
   "cell_type": "code",
   "execution_count": null,
   "id": "543a2788",
   "metadata": {},
   "outputs": [],
   "source": []
  }
 ],
 "metadata": {
  "kernelspec": {
   "display_name": "Python 3",
   "language": "python",
   "name": "python3"
  },
  "language_info": {
   "codemirror_mode": {
    "name": "ipython",
    "version": 3
   },
   "file_extension": ".py",
   "mimetype": "text/x-python",
   "name": "python",
   "nbconvert_exporter": "python",
   "pygments_lexer": "ipython3",
   "version": "3.6.9"
  }
 },
 "nbformat": 4,
 "nbformat_minor": 5
}
