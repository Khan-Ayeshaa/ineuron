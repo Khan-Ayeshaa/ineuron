{
 "cells": [
  {
   "cell_type": "markdown",
   "id": "053eaeda",
   "metadata": {},
   "source": [
    "1. What is the name of the feature responsible for generating Regex objects?\n",
    "Ans- re.compile()"
   ]
  },
  {
   "cell_type": "markdown",
   "id": "0ddeda90",
   "metadata": {},
   "source": [
    "2. Why do raw strings often appear in Regex objects?\n",
    "Ans- So that \\ is interpreted as legal character."
   ]
  },
  {
   "cell_type": "markdown",
   "id": "c96a35c1",
   "metadata": {},
   "source": [
    "3. What is the return value of the search() method?\n",
    "Ans- It returns match objects with indices if the expression is found or else returns none."
   ]
  },
  {
   "cell_type": "markdown",
   "id": "3b6ae804",
   "metadata": {},
   "source": [
    "4. From a Match item, how do you get the actual strings that match the pattern?\n",
    "Ans- group() returns the actual strings that match the pattern."
   ]
  },
  {
   "cell_type": "markdown",
   "id": "ee179d8f",
   "metadata": {},
   "source": [
    "5. In the regex which created from the r'(\\d\\d\\d)-(\\d\\d\\d-\\d\\d\\d\\d)', what does group zero cover? Group 2? Group 1?\n",
    "Ans- Group 0 is the whole raw string. Group 1 covers the first brackets (\\d\\d\\d) and group 2 covers second brackets (\\d\\d\\d-\\d\\d\\d\\d)."
   ]
  },
  {
   "cell_type": "markdown",
   "id": "30110f1f",
   "metadata": {},
   "source": [
    "6. In standard expression syntax, parentheses and intervals have distinct meanings. How can you tell a regex that you want it to fit real parentheses and periods?\n",
    "Ans- By using backlash we can escape the syntaxes like \\., \\(, and \\)."
   ]
  },
  {
   "cell_type": "markdown",
   "id": "16550238",
   "metadata": {},
   "source": [
    "7. The findall() method returns a string list or a list of string tuples. What causes it to return one of the two options?\n",
    "Ans- If there are no groups then list of strings is returned whereas if there are groups in regex then a list of tuples of string is returned."
   ]
  },
  {
   "cell_type": "markdown",
   "id": "00de88e5",
   "metadata": {},
   "source": [
    "8. In standard expressions, what does the | character mean?\n",
    "Ans- It represents logical OR between two groups."
   ]
  },
  {
   "cell_type": "markdown",
   "id": "c8bf6e9a",
   "metadata": {},
   "source": [
    "9. In regular expressions, what does the character stand for?\n",
    "Ans- Character not mentioned in the question."
   ]
  },
  {
   "cell_type": "markdown",
   "id": "2efac5f7",
   "metadata": {},
   "source": [
    "10. In regular expressions, what is the difference between the + and * characters?\n",
    "Ans- They are quantifier where + means one or more and * means 0 or more."
   ]
  },
  {
   "cell_type": "markdown",
   "id": "059624d6",
   "metadata": {},
   "source": [
    "11. What is the difference between {4} and {4,5} in regular expression?\n",
    "Ans- {4} means the preceding group occurs exactly 4 times and {4,5} means not less than 4 times and no more than 5 times."
   ]
  },
  {
   "cell_type": "markdown",
   "id": "0b84bb41",
   "metadata": {},
   "source": [
    "12. What do you mean by the \\d, \\w, and \\s shorthand character classes signify in regular expressions?\n",
    "Ans- \\d means any single digit between 0-9, \\w means any single word and \\s means a whitespace."
   ]
  },
  {
   "cell_type": "markdown",
   "id": "9fee709d",
   "metadata": {},
   "source": [
    "13. What do means by \\D, \\W, and \\S shorthand character classes signify in regular expressions?\n",
    "Ans- \\D represents a non-digit number, \\W means not a alphanumeric word and \\S represents a non whitespace character."
   ]
  },
  {
   "cell_type": "markdown",
   "id": "0efc8bab",
   "metadata": {},
   "source": [
    "14. What is the difference between .*? and .*?\n",
    "Ans- Both characters are same in the question unable to find the difference.\n",
    "'.*?' represents all the characters may or may not be present.\n",
    "'.*' means all the characters."
   ]
  },
  {
   "cell_type": "markdown",
   "id": "ae110638",
   "metadata": {},
   "source": [
    "15. What is the syntax for matching both numbers and lowercase letters with a character class?\n",
    "Ans- [0-9a-z]"
   ]
  },
  {
   "cell_type": "markdown",
   "id": "b405bc2a",
   "metadata": {},
   "source": [
    "16. What is the procedure for making a normal expression in regax case insensitive?\n",
    "Ans- re.I or re.IGNORECASE"
   ]
  },
  {
   "cell_type": "markdown",
   "id": "5dfa64c2",
   "metadata": {},
   "source": [
    "17. What does the . character normally match? What does it match if re.DOTALL is passed as 2nd argument in re.compile()?\n",
    "Ans- . represents any character except the newline character.\n",
    "re.DOTALL will also include the newline character."
   ]
  },
  {
   "cell_type": "markdown",
   "id": "acdcb111",
   "metadata": {},
   "source": [
    "18. If numReg = re.compile(r'\\d+'), what will numRegex.sub('X', '11 drummers, 10 pipers, five rings, 4 hen') return?\n",
    "Ans- X drummers, X pipers, five rings, X hens\n",
    "It replaces the digits character with an X."
   ]
  },
  {
   "cell_type": "markdown",
   "id": "efd375b0",
   "metadata": {},
   "source": [
    "19. What does passing re.VERBOSE as the 2nd argument to re.compile() allow to do?\n",
    "Ans- re.VERBOSE allows to add whitespaces and comments to the string passed to re.compile()."
   ]
  },
  {
   "cell_type": "markdown",
   "id": "ab7f8b40",
   "metadata": {},
   "source": [
    "20. How would you write a regex that match a number with comma for every three digits? It must match the given following:\n",
    "'42'\n",
    "'1,234'\n",
    "'6,368,745'\n",
    "but not the following:\n",
    "'12,34,567' (which has only two digits between the commas)\n",
    "'1234' (which lacks commas)\n",
    "Ans- r\"^d*,?(\\d{3}$)*\""
   ]
  },
  {
   "cell_type": "markdown",
   "id": "d9c5727f",
   "metadata": {},
   "source": [
    "21. How would you write a regex that matches the full name of someone whose last name is Watanabe? You can assume that the first name that comes before it will always be one word that begins with a capital letter. The regex must match the following:\n",
    "'Haruto Watanabe'\n",
    "'Alice Watanabe'\n",
    "'RoboCop Watanabe'\n",
    "but not the following:\n",
    "'haruto Watanabe' (where the first name is not capitalized)\n",
    "'Mr. Watanabe' (where the preceding word has a nonletter character)\n",
    "'Watanabe' (which has no first name)\n",
    "'Haruto watanabe' (where Watanabe is not capitalized)\n",
    "Ans- r\"[^A-Z][a-z]*\\s(Watnabe)\""
   ]
  },
  {
   "cell_type": "markdown",
   "id": "9ee4b581",
   "metadata": {},
   "source": [
    "22. How would you write a regex that matches a sentence where the first word is either Alice, Bob, or Carol; the second word is either eats, pets, or throws; the third word is apples, cats, or baseballs; and the sentence ends with a period? This regex should be case-insensitive. It must match the following:\n",
    "'Alice eats apples.'\n",
    "'Bob pets cats.'\n",
    "'Carol throws baseballs.'\n",
    "'Alice throws Apples.'\n",
    "'BOB EATS CATS.'\n",
    "but not the following:\n",
    "'RoboCop eats apples.'\n",
    "'ALICE THROWS FOOTBALLS.'\n",
    "'Carol eats 7 cats.'\n",
    "Ans- re.compile(r\"(Alice|Bob|Carol)\\s(eats|pets|throws)\\s(apples|cats|baseballs)\\.$, re.IGNORECASE\""
   ]
  }
 ],
 "metadata": {
  "kernelspec": {
   "display_name": "Python 3 (ipykernel)",
   "language": "python",
   "name": "python3"
  },
  "language_info": {
   "codemirror_mode": {
    "name": "ipython",
    "version": 3
   },
   "file_extension": ".py",
   "mimetype": "text/x-python",
   "name": "python",
   "nbconvert_exporter": "python",
   "pygments_lexer": "ipython3",
   "version": "3.11.3"
  }
 },
 "nbformat": 4,
 "nbformat_minor": 5
}
