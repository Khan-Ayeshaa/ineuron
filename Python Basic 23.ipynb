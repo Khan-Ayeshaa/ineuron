{
 "cells": [
  {
   "cell_type": "markdown",
   "id": "1d94b892",
   "metadata": {},
   "source": [
    "1. What is the result of the code, and why?\n",
    "def func(a, b=6, c=8):\n",
    "    print(a, b, c)\n",
    "func(1, 2)"
   ]
  },
  {
   "cell_type": "markdown",
   "id": "c156a50d",
   "metadata": {},
   "source": [
    "Ans1- Output is:\n",
    "1 2 8\n",
    "The function 'func()' takes three arguments a,b and c. If when calling the function if the arguments for b and c is not given it will by default print 6 and 8 for b and c as defind in the function. Here, argument for 'a' is given as 1, and another one for 'b' os given as 2. Since no argument is given for 'c' it will print the default value of c as defined in the function which is 8."
   ]
  },
  {
   "cell_type": "markdown",
   "id": "c8b03044",
   "metadata": {},
   "source": [
    "2. What is the result of this code, and why?\n",
    "def func(a, b, c=5):\n",
    "    print(a, b, c)\n",
    "func(1, c=3, b=2)"
   ]
  },
  {
   "cell_type": "markdown",
   "id": "e3b33da3",
   "metadata": {},
   "source": [
    "Ans2- Output is:\n",
    "1 2 3\n",
    "When func() is called it takes the imput of 'a' as 1, 'c' as 3 and 'b' as 2 but prints then in the order a, b, c which is 1, 2, 3."
   ]
  },
  {
   "cell_type": "markdown",
   "id": "56df154d",
   "metadata": {},
   "source": [
    "3. How about this code: what is its result, and why?\n",
    "def func(a, *pargs):\n",
    "   print(a, pargs)\n",
    "func(1, 2, 3)"
   ]
  },
  {
   "cell_type": "markdown",
   "id": "4d111528",
   "metadata": {},
   "source": [
    "Ans3- The output is:\n",
    "1 (2, 3)\n",
    "When func() is called it takes the value of 'a' as 1 which is the first argument. For *pargs the rest of the values are assigned andreturns (2, 3) when it is printed."
   ]
  },
  {
   "cell_type": "markdown",
   "id": "5c3bbb9b",
   "metadata": {},
   "source": [
    "4. What does this code print, and why?\n",
    "def func(a, **kargs):\n",
    "   print(a, kargs)\n",
    "func(a=1, c=3, b=2)"
   ]
  },
  {
   "cell_type": "markdown",
   "id": "2cfd335b",
   "metadata": {},
   "source": [
    "Ans4- Output is:\n",
    "1 {c:3, b:2}\n",
    "Here **kargs is used for dictionary key word arguments. So here the first argument 1 takes the value for 'a'. For the other inputs which are c=3 and b=2 it prints a dictionary."
   ]
  },
  {
   "cell_type": "markdown",
   "id": "a193ce26",
   "metadata": {},
   "source": [
    "5. What gets printed by this, and explain?\n",
    "def func(a, b, c=8, d=5): print(a, b, c, d)\n",
    "func(1, *(5, 6))"
   ]
  },
  {
   "cell_type": "markdown",
   "id": "40bcd109",
   "metadata": {},
   "source": [
    "Ans5- Output is:\n",
    "1 5 6 5\n",
    "Here 'a' takes the first argument 1, b takes the next argument 5, c takes the third argument 6 and since no argument is given for d so it takes the default assigned value as 5."
   ]
  },
  {
   "cell_type": "markdown",
   "id": "76c89345",
   "metadata": {},
   "source": [
    "6. what is the result of this, and explain?\n",
    "def func(a, b, c): \n",
    "    a = 2; b[0] = 'x'; c['a'] = 'y'\n",
    "    \n",
    "l=1; m=[1]; n={'a': 0}\n",
    "\n",
    "func(l, m, n)\n",
    "\n",
    "l, m, n"
   ]
  },
  {
   "cell_type": "markdown",
   "id": "1ad4eba4",
   "metadata": {},
   "source": [
    "Ans6- Output is:\n",
    "(1, ['x'], {'a': 'y'})\n",
    "When the function is defined 'a' is assigned as 2, the 0 index of 'b' is 'x' and the key of dictionary 'c' is 'a' the value of which is 'y'.\n",
    "Now when we pass l, m, n when calling the function the value of l as assigned changes to 1, the value of 'm' as acc to the function m[0] is not given so it remains as ['x'] which is the default value. For the value of n the the assigned dictionary value for the key [a] is 'y' so it is produced as the input of 'n'."
   ]
  }
 ],
 "metadata": {
  "kernelspec": {
   "display_name": "Python 3 (ipykernel)",
   "language": "python",
   "name": "python3"
  },
  "language_info": {
   "codemirror_mode": {
    "name": "ipython",
    "version": 3
   },
   "file_extension": ".py",
   "mimetype": "text/x-python",
   "name": "python",
   "nbconvert_exporter": "python",
   "pygments_lexer": "ipython3",
   "version": "3.11.3"
  }
 },
 "nbformat": 4,
 "nbformat_minor": 5
}
