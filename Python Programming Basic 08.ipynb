{
 "cells": [
  {
   "cell_type": "markdown",
   "id": "0e6be0f3",
   "metadata": {},
   "source": [
    "1.\tWrite a Python Program to Add Two Matrices?\n"
   ]
  },
  {
   "cell_type": "code",
   "execution_count": 4,
   "id": "321da2d4",
   "metadata": {},
   "outputs": [
    {
     "name": "stdout",
     "output_type": "stream",
     "text": [
      "[[91 82 73]\n",
      " [64 55 46]\n",
      " [37 28 19]]\n"
     ]
    }
   ],
   "source": [
    "x = [[1, 2, 3],\n",
    "     [4, 5, 6],\n",
    "     [7, 8, 9]]\n",
    "\n",
    "y = [[90, 80, 70],\n",
    "     [60, 50, 40],\n",
    "     [30, 20, 10]]\n",
    "\n",
    "import numpy as np\n",
    "\n",
    "answer = np.array(x) + np.array(y)\n",
    "print(answer)"
   ]
  },
  {
   "cell_type": "markdown",
   "id": "acbadee9",
   "metadata": {},
   "source": [
    "2.\tWrite a Python Program to Multiply Two Matrices?\n"
   ]
  },
  {
   "cell_type": "code",
   "execution_count": 5,
   "id": "bec3ba77",
   "metadata": {},
   "outputs": [
    {
     "name": "stdout",
     "output_type": "stream",
     "text": [
      "[[ 90 160 210]\n",
      " [240 250 240]\n",
      " [210 160  90]]\n"
     ]
    }
   ],
   "source": [
    "x = [[1, 2, 3],\n",
    "     [4, 5, 6],\n",
    "     [7, 8, 9]]\n",
    "\n",
    "y = [[90, 80, 70],\n",
    "     [60, 50, 40],\n",
    "     [30, 20, 10]]\n",
    "\n",
    "product = np.array(x)* np.array(y)\n",
    "print(product)"
   ]
  },
  {
   "cell_type": "markdown",
   "id": "ddde6eee",
   "metadata": {},
   "source": [
    "3.\tWrite a Python Program to Transpose a Matrix?\n"
   ]
  },
  {
   "cell_type": "code",
   "execution_count": 8,
   "id": "4f228a81",
   "metadata": {},
   "outputs": [
    {
     "name": "stdout",
     "output_type": "stream",
     "text": [
      "[[1 4]\n",
      " [2 5]\n",
      " [3 6]]\n"
     ]
    }
   ],
   "source": [
    "x = [[1, 2, 3],\n",
    "     [4, 5, 6]]\n",
    "\n",
    "print(np.transpose(x))"
   ]
  },
  {
   "cell_type": "markdown",
   "id": "a3f254c1",
   "metadata": {},
   "source": [
    "4.\tWrite a Python Program to Sort Words in Alphabetic Order?\n"
   ]
  },
  {
   "cell_type": "code",
   "execution_count": 28,
   "id": "2dfbd845",
   "metadata": {},
   "outputs": [
    {
     "name": "stdout",
     "output_type": "stream",
     "text": [
      "Enter a group of words: Join our offline Data Structures and Algorithms course led by experienced mentors from top tech companies.\n",
      "algorithms\n",
      "and\n",
      "by\n",
      "companies.\n",
      "course\n",
      "data\n",
      "experienced\n",
      "from\n",
      "join\n",
      "led\n",
      "mentors\n",
      "offline\n",
      "our\n",
      "structures\n",
      "tech\n",
      "top\n"
     ]
    }
   ],
   "source": [
    "sentence = input(\"Enter a group of words: \")\n",
    "\n",
    "words = [i.lower() for i in sentence.split()]\n",
    "words.sort()\n",
    "\n",
    "for i in words:\n",
    "    print(i)"
   ]
  },
  {
   "cell_type": "markdown",
   "id": "1e2c0a9d",
   "metadata": {},
   "source": [
    "5.\tWrite a Python Program to Remove Punctuation From a String?\n"
   ]
  },
  {
   "cell_type": "code",
   "execution_count": 29,
   "id": "c7a16749",
   "metadata": {},
   "outputs": [
    {
     "name": "stdout",
     "output_type": "stream",
     "text": [
      "String with punctuations: Hey! Welcome to - iNeuron :) Hope, you? enjoy& the course@\n",
      "String without punctuation:  Hey  Welcome to   iNeuron    Hope  you  enjoy  the course \n"
     ]
    }
   ],
   "source": [
    "import re\n",
    "\n",
    "sentence = input(\"String with punctuations: \")\n",
    "\n",
    "remove = re.sub(r'[^\\w\\s]', \" \", sentence)\n",
    "\n",
    "print(\"String without punctuation: \", remove)"
   ]
  }
 ],
 "metadata": {
  "kernelspec": {
   "display_name": "Python 3 (ipykernel)",
   "language": "python",
   "name": "python3"
  },
  "language_info": {
   "codemirror_mode": {
    "name": "ipython",
    "version": 3
   },
   "file_extension": ".py",
   "mimetype": "text/x-python",
   "name": "python",
   "nbconvert_exporter": "python",
   "pygments_lexer": "ipython3",
   "version": "3.11.3"
  }
 },
 "nbformat": 4,
 "nbformat_minor": 5
}
