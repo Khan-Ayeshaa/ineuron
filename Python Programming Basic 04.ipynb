{
 "cells": [
  {
   "cell_type": "markdown",
   "id": "16051dae",
   "metadata": {},
   "source": [
    "1.\tWrite a Python Program to Find the Factorial of a Number?\n"
   ]
  },
  {
   "cell_type": "code",
   "execution_count": 2,
   "id": "30b2839c",
   "metadata": {},
   "outputs": [
    {
     "data": {
      "text/plain": [
       "120"
      ]
     },
     "execution_count": 2,
     "metadata": {},
     "output_type": "execute_result"
    }
   ],
   "source": [
    "def factorial(num):\n",
    "    if num == 1:\n",
    "        return num\n",
    "    else:\n",
    "        return (num*factorial(num-1))\n",
    "    \n",
    "factorial(5)"
   ]
  },
  {
   "cell_type": "markdown",
   "id": "8256b9e4",
   "metadata": {},
   "source": [
    "2.\tWrite a Python Program to Display the multiplication Table?\n"
   ]
  },
  {
   "cell_type": "code",
   "execution_count": 9,
   "id": "f8bd250f",
   "metadata": {},
   "outputs": [
    {
     "name": "stdout",
     "output_type": "stream",
     "text": [
      "7 x 1 = 7\n",
      "7 x 2 = 14\n",
      "7 x 3 = 21\n",
      "7 x 4 = 28\n",
      "7 x 5 = 35\n",
      "7 x 6 = 42\n",
      "7 x 7 = 49\n",
      "7 x 8 = 56\n",
      "7 x 9 = 63\n",
      "7 x 10 = 70\n"
     ]
    }
   ],
   "source": [
    "def table(num):\n",
    "    for i in range(1, 11):\n",
    "        product = i*num\n",
    "        print(f'{num} x {i} = {product}')\n",
    "    \n",
    "table(7)"
   ]
  },
  {
   "cell_type": "markdown",
   "id": "375523c8",
   "metadata": {},
   "source": [
    "3.\tWrite a Python Program to Print the Fibonacci sequence?\n"
   ]
  },
  {
   "cell_type": "code",
   "execution_count": 17,
   "id": "4652776e",
   "metadata": {},
   "outputs": [
    {
     "data": {
      "text/plain": [
       "[0, 1, 1, 2, 3, 5, 8, 13, 21, 34, 55]"
      ]
     },
     "execution_count": 17,
     "metadata": {},
     "output_type": "execute_result"
    }
   ],
   "source": [
    "def fib(term):\n",
    "    a = 0\n",
    "    b = 1\n",
    "    series = [0]\n",
    "    for i in range(term):\n",
    "        a, b = b, a+b\n",
    "        series.append(a)\n",
    "    return series\n",
    "\n",
    "fib(10)"
   ]
  },
  {
   "cell_type": "markdown",
   "id": "9dcc265c",
   "metadata": {},
   "source": [
    "4.\tWrite a Python Program to Check Armstrong Number?\n"
   ]
  },
  {
   "cell_type": "code",
   "execution_count": 47,
   "id": "b15428f0",
   "metadata": {},
   "outputs": [
    {
     "name": "stdout",
     "output_type": "stream",
     "text": [
      "Enter a number: 371\n",
      "371 is an Armstrong number\n"
     ]
    }
   ],
   "source": [
    "num = int(input('Enter a number: '))\n",
    "power = len(str(num))\n",
    "add = 0\n",
    "temp = num\n",
    "while temp > 0:\n",
    "    digit = temp % 10\n",
    "    add += digit ** power\n",
    "    temp //= 10\n",
    "\n",
    "\n",
    "if num == add:\n",
    "    print(num,\"is an Armstrong number\")\n",
    "else:\n",
    "    print(num,\"is not an Armstrong number\")"
   ]
  },
  {
   "cell_type": "markdown",
   "id": "903d5257",
   "metadata": {},
   "source": [
    "5.\tWrite a Python Program to Find Armstrong Number in an Interval?\n"
   ]
  },
  {
   "cell_type": "code",
   "execution_count": 7,
   "id": "b1869809",
   "metadata": {},
   "outputs": [
    {
     "data": {
      "text/plain": [
       "[370, 371, 407]"
      ]
     },
     "execution_count": 7,
     "metadata": {},
     "output_type": "execute_result"
    }
   ],
   "source": [
    "def Armstrong(start, end):\n",
    "    arms_num = []\n",
    "    for i in range(start, end+1):\n",
    "        power = len(str(i))\n",
    "        add = 0\n",
    "        temp = i\n",
    "        while temp > 0:\n",
    "            digit = temp % 10\n",
    "            add += digit ** power\n",
    "            temp //= 10\n",
    "    \n",
    "        if i == add:\n",
    "            arms_num.append(i)\n",
    "    return arms_num\n",
    "    \n",
    "Armstrong(200, 500)"
   ]
  },
  {
   "cell_type": "markdown",
   "id": "c004dba2",
   "metadata": {},
   "source": [
    "6.\tWrite a Python Program to Find the Sum of Natural Numbers?\n"
   ]
  },
  {
   "cell_type": "code",
   "execution_count": 9,
   "id": "d148cdad",
   "metadata": {},
   "outputs": [
    {
     "data": {
      "text/plain": [
       "122"
      ]
     },
     "execution_count": 9,
     "metadata": {},
     "output_type": "execute_result"
    }
   ],
   "source": [
    "def natural(*args):\n",
    "    add = 0\n",
    "    for i in args:\n",
    "        add += i\n",
    "    return add\n",
    "\n",
    "natural(2, 4, 5, 1, 10, 100)"
   ]
  }
 ],
 "metadata": {
  "kernelspec": {
   "display_name": "Python 3 (ipykernel)",
   "language": "python",
   "name": "python3"
  },
  "language_info": {
   "codemirror_mode": {
    "name": "ipython",
    "version": 3
   },
   "file_extension": ".py",
   "mimetype": "text/x-python",
   "name": "python",
   "nbconvert_exporter": "python",
   "pygments_lexer": "ipython3",
   "version": "3.11.3"
  }
 },
 "nbformat": 4,
 "nbformat_minor": 5
}
