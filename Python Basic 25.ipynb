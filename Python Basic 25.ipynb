{
 "cells": [
  {
   "cell_type": "markdown",
   "id": "b6fece8a",
   "metadata": {},
   "source": [
    "1) What is the difference between enclosing a list comprehension in square brackets and parentheses?\n",
    "\n",
    "Ans - Enclosing the list comprehension in square brackets will give the output as a list. They are usually used to replace loops.\n",
    "Whereas enclosing the comprehensions in paranthesis defines a generator."
   ]
  },
  {
   "cell_type": "markdown",
   "id": "2e348c6b",
   "metadata": {},
   "source": [
    "2) What is the relationship between generators and iterators?\n",
    "\n",
    "Ans- An iterable can be converted into iterator using a function iter(). And we can iterate the value using next().\n",
    "Generators use 'yield' statement which pauses the loop and gives a sequence of variable to python to iterate."
   ]
  },
  {
   "cell_type": "markdown",
   "id": "9ee7d0ad",
   "metadata": {},
   "source": [
    "3) What are the signs that a function is a generator function?\n",
    "\n",
    "Ans- If a function includes a 'yield' statement in place of return then it is generator function. Generator functions are run when the next() function is called."
   ]
  },
  {
   "cell_type": "markdown",
   "id": "f42dac8c",
   "metadata": {},
   "source": [
    "4) What is the purpose of a yield statement?\n",
    "\n",
    "Ans - yield statement controls the flow of a generator function. It will pause the loop and saves the state of a local variable. The value can be accessed using next()function."
   ]
  },
  {
   "cell_type": "markdown",
   "id": "b8a79523",
   "metadata": {},
   "source": [
    "5) What is the relationship between map calls and list comprehensions?\n",
    "\n",
    "Ans- List comprehension returns a list, whereas the map function returns an object of Iterable.\n",
    "List comprehension are used when a list of results is required as map only returns a map object and does not return any list."
   ]
  }
 ],
 "metadata": {
  "kernelspec": {
   "display_name": "Python 3 (ipykernel)",
   "language": "python",
   "name": "python3"
  },
  "language_info": {
   "codemirror_mode": {
    "name": "ipython",
    "version": 3
   },
   "file_extension": ".py",
   "mimetype": "text/x-python",
   "name": "python",
   "nbconvert_exporter": "python",
   "pygments_lexer": "ipython3",
   "version": "3.11.3"
  }
 },
 "nbformat": 4,
 "nbformat_minor": 5
}
