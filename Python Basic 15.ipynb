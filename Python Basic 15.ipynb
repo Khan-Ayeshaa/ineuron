{
 "cells": [
  {
   "cell_type": "markdown",
   "id": "3d906141",
   "metadata": {},
   "source": [
    "1.How many seconds are in an hour? Use the interactive interpreter as a calculator and multiply the number of seconds in a minute (60) by the number of minutes in an hour (also 60).\n",
    "Ans. There are 3,600 seconds in an hour."
   ]
  },
  {
   "cell_type": "code",
   "execution_count": 15,
   "id": "42acedae",
   "metadata": {},
   "outputs": [
    {
     "name": "stdout",
     "output_type": "stream",
     "text": [
      "3600 seconds\n"
     ]
    }
   ],
   "source": [
    "#Seconds in 1 minute\n",
    "Seconds_per_minute = 60\n",
    "#Minutes in 1 hour\n",
    "Minutes = 60\n",
    "print(Seconds_per_minute*Minutes_per_hour, \"seconds\")"
   ]
  },
  {
   "cell_type": "markdown",
   "id": "0a2acfd4",
   "metadata": {},
   "source": [
    "2. Assign the result from the previous task (seconds in an hour) to a variable called seconds_per_hour."
   ]
  },
  {
   "cell_type": "code",
   "execution_count": 16,
   "id": "042f1b85",
   "metadata": {},
   "outputs": [],
   "source": [
    "seconds_per_hour = Seconds_per_minute*Minutes"
   ]
  },
  {
   "cell_type": "markdown",
   "id": "c73b8b9a",
   "metadata": {},
   "source": [
    "3. How many seconds do you think there are in a day? Make use of the variables seconds per hour and minutes per hour."
   ]
  },
  {
   "cell_type": "code",
   "execution_count": 23,
   "id": "30487585",
   "metadata": {},
   "outputs": [
    {
     "name": "stdout",
     "output_type": "stream",
     "text": [
      "86400 seconds\n"
     ]
    }
   ],
   "source": [
    "hours_per_day = 24\n",
    "#Minutes in 1 day\n",
    "print(seconds_per_hour*hours_per_day, \"seconds\")"
   ]
  },
  {
   "cell_type": "markdown",
   "id": "0a56b3a0",
   "metadata": {},
   "source": [
    "4. Calculate seconds per day again, but this time save the result in a variable called seconds_per_day"
   ]
  },
  {
   "cell_type": "code",
   "execution_count": 19,
   "id": "216bcc6b",
   "metadata": {},
   "outputs": [],
   "source": [
    "seconds_per_day = seconds_per_hour*hours_per_day"
   ]
  },
  {
   "cell_type": "markdown",
   "id": "f10eb0fc",
   "metadata": {},
   "source": [
    "5. Divide seconds_per_day by seconds_per_hour. Use floating-point (/) division."
   ]
  },
  {
   "cell_type": "code",
   "execution_count": 25,
   "id": "a8b4f77a",
   "metadata": {},
   "outputs": [
    {
     "name": "stdout",
     "output_type": "stream",
     "text": [
      "24.0\n"
     ]
    }
   ],
   "source": [
    "print(seconds_per_day/seconds_per_hour)"
   ]
  },
  {
   "cell_type": "markdown",
   "id": "a6afcf55",
   "metadata": {},
   "source": [
    "6. Divide seconds_per_day by seconds_per_hour, using integer (//) division. Did this number agree with the floating-point value from the previous question, aside from the final .0?"
   ]
  },
  {
   "cell_type": "code",
   "execution_count": 26,
   "id": "187a7a63",
   "metadata": {},
   "outputs": [
    {
     "name": "stdout",
     "output_type": "stream",
     "text": [
      "24\n"
     ]
    }
   ],
   "source": [
    "print(seconds_per_day//seconds_per_hour)\n",
    "#Yes the answers for both the questions are same except the .0 as the above answer is a float value."
   ]
  },
  {
   "cell_type": "markdown",
   "id": "0a420529",
   "metadata": {},
   "source": [
    "7. Write a generator, genPrimes, that returns the sequence of prime numbers on successive calls to its next() method: 2, 3, 5, 7, 11, ..."
   ]
  },
  {
   "cell_type": "code",
   "execution_count": 18,
   "id": "4e69efa1",
   "metadata": {},
   "outputs": [],
   "source": [
    "def genPrimes():\n",
    "    n = 2\n",
    "    primes = set()\n",
    "    while True:\n",
    "        for p in primes:\n",
    "            if n % p == 0:\n",
    "                break\n",
    "        else:\n",
    "            primes.add(n)\n",
    "            yield n\n",
    "        n += 1\n",
    "g = genPrimes()"
   ]
  }
 ],
 "metadata": {
  "kernelspec": {
   "display_name": "Python 3 (ipykernel)",
   "language": "python",
   "name": "python3"
  },
  "language_info": {
   "codemirror_mode": {
    "name": "ipython",
    "version": 3
   },
   "file_extension": ".py",
   "mimetype": "text/x-python",
   "name": "python",
   "nbconvert_exporter": "python",
   "pygments_lexer": "ipython3",
   "version": "3.11.3"
  }
 },
 "nbformat": 4,
 "nbformat_minor": 5
}
