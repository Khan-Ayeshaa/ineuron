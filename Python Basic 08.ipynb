{
 "cells": [
  {
   "cell_type": "markdown",
   "id": "78878e36",
   "metadata": {},
   "source": [
    "1. Is the Python Standard Library included with PyInputPlus?\n",
    "Ans- No it is installed separetely using Pip."
   ]
  },
  {
   "cell_type": "markdown",
   "id": "32c92b41",
   "metadata": {},
   "source": [
    "2. Why is PyInputPlus commonly imported with import pyinputplus as pypi?\n",
    "Ans- So that youdon't have to enter the full name again and again while calling the module and takes in he shorter name."
   ]
  },
  {
   "cell_type": "markdown",
   "id": "26a0445c",
   "metadata": {},
   "source": [
    "3. How do you distinguish between inputInt() and inputFloat()?\n",
    "Ans- In inputInt() it accepts any integer whereas in inputFloat() it accepts a number with a decimal."
   ]
  },
  {
   "cell_type": "markdown",
   "id": "154058bf",
   "metadata": {},
   "source": [
    "4. Using PyInputPlus, how do you ensure that the user enters a whole number between 0 and 99?\n",
    "Ans- pypi.inputint(min=0, max=99)"
   ]
  },
  {
   "cell_type": "markdown",
   "id": "233d1f88",
   "metadata": {},
   "source": [
    "5. What is transferred to the keyword arguments allowRegexes and blockRegexes?\n",
    "Ans- List of regex string characters that are allowed or blocked. "
   ]
  },
  {
   "cell_type": "markdown",
   "id": "fca69bc9",
   "metadata": {},
   "source": [
    "6. If a blank input is entered three times, what does inputStr(limit=3) do?\n",
    "Ans- It will raise an exception of 'RetryLimitException'."
   ]
  },
  {
   "cell_type": "markdown",
   "id": "655738c3",
   "metadata": {},
   "source": [
    "7. If blank input is entered three times, what does inputStr(limit=3, default='hello') do?\n",
    "Ans- The function returns 'hello'."
   ]
  }
 ],
 "metadata": {
  "kernelspec": {
   "display_name": "Python 3 (ipykernel)",
   "language": "python",
   "name": "python3"
  },
  "language_info": {
   "codemirror_mode": {
    "name": "ipython",
    "version": 3
   },
   "file_extension": ".py",
   "mimetype": "text/x-python",
   "name": "python",
   "nbconvert_exporter": "python",
   "pygments_lexer": "ipython3",
   "version": "3.11.3"
  }
 },
 "nbformat": 4,
 "nbformat_minor": 5
}
