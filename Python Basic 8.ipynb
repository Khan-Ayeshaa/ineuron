{
 "cells": [
  {
   "cell_type": "raw",
   "id": "5e2bda41",
   "metadata": {},
   "source": [
    "1. Is the Python Standard Library included with PyInputPlus?\n",
    "Ans- No it is installed separetely using Pip."
   ]
  },
  {
   "cell_type": "raw",
   "id": "cde15d06",
   "metadata": {},
   "source": [
    "2. Why is PyInputPlus commonly imported with import pyinputplus as pypi?\n",
    "Ans- So that youdon't have to enter the full name again and again while calling the module and takes in he shorter name."
   ]
  },
  {
   "cell_type": "raw",
   "id": "49381c67",
   "metadata": {},
   "source": [
    "3. How do you distinguish between inputInt() and inputFloat()?\n",
    "Ans- In inputInt() it accepts any integer whereas in inputFloat() it accepts a number with a decimal."
   ]
  },
  {
   "cell_type": "raw",
   "id": "18e54c38",
   "metadata": {},
   "source": [
    "4. Using PyInputPlus, how do you ensure that the user enters a whole number between 0 and 99?\n",
    "Ans- pypi.inputint(min=0, max=99)"
   ]
  },
  {
   "cell_type": "raw",
   "id": "8135d77d",
   "metadata": {},
   "source": [
    "5. What is transferred to the keyword arguments allowRegexes and blockRegexes?\n",
    "Ans- List of regex string characters that are allowed or blocked. "
   ]
  },
  {
   "cell_type": "raw",
   "id": "81551933",
   "metadata": {},
   "source": [
    "6. If a blank input is entered three times, what does inputStr(limit=3) do?\n",
    "Ans- It will raise an exception of 'RetryLimitException'."
   ]
  },
  {
   "cell_type": "raw",
   "id": "47908d48",
   "metadata": {},
   "source": [
    "7. If blank input is entered three times, what does inputStr(limit=3, default='hello') do?\n",
    "Ans- The function returns 'hello'."
   ]
  }
 ],
 "metadata": {
  "kernelspec": {
   "display_name": "Python 3 (ipykernel)",
   "language": "python",
   "name": "python3"
  },
  "language_info": {
   "codemirror_mode": {
    "name": "ipython",
    "version": 3
   },
   "file_extension": ".py",
   "mimetype": "text/x-python",
   "name": "python",
   "nbconvert_exporter": "python",
   "pygments_lexer": "ipython3",
   "version": "3.11.3"
  }
 },
 "nbformat": 4,
 "nbformat_minor": 5
}
