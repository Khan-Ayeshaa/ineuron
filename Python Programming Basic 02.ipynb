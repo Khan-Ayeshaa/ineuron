{
 "cells": [
  {
   "cell_type": "markdown",
   "id": "9d9c88ec",
   "metadata": {},
   "source": [
    "Q1. Write a Python program to convert kilometers to miles?"
   ]
  },
  {
   "cell_type": "code",
   "execution_count": 2,
   "id": "3ddbff86",
   "metadata": {},
   "outputs": [
    {
     "name": "stdout",
     "output_type": "stream",
     "text": [
      "Value (in km) = 1000\n",
      "1000.0 km =  621.371 miles\n"
     ]
    }
   ],
   "source": [
    "# Program to convert km to miles\n",
    "\n",
    "kilometers = float(input(\"Value (in km) = \"))\n",
    "miles= 0.621371\n",
    "\n",
    "#convert in miles\n",
    "miles = kilometers * miles\n",
    "\n",
    "print(kilometers, \"km = \", miles, \"miles\")"
   ]
  },
  {
   "cell_type": "markdown",
   "id": "747ae474",
   "metadata": {},
   "source": [
    "Q2. Write a Python program to convert Celsius to Fahrenheit?"
   ]
  },
  {
   "cell_type": "code",
   "execution_count": 1,
   "id": "1d22559c",
   "metadata": {},
   "outputs": [
    {
     "name": "stdout",
     "output_type": "stream",
     "text": [
      "Temperature (in °C) = 100\n",
      "100.0 °C =  212.0 °F\n"
     ]
    }
   ],
   "source": [
    "# Program to convert Celsius to Fahrenheit\n",
    "\n",
    "celsius = float(input(\"Temperature (in °C) = \"))\n",
    "\n",
    "#conversion\n",
    "fahrenheit = (celsius* 9/5) + 32\n",
    "\n",
    "print(celsius, \"°C = \", fahrenheit, \"°F\")"
   ]
  },
  {
   "cell_type": "markdown",
   "id": "e60516e4",
   "metadata": {},
   "source": [
    "Q3. Write a Python program to display calendar?"
   ]
  },
  {
   "cell_type": "code",
   "execution_count": 7,
   "id": "6facf358",
   "metadata": {},
   "outputs": [
    {
     "name": "stdout",
     "output_type": "stream",
     "text": [
      "Enter year (yyyy): 2021\n",
      "Enter month (mm): 02\n",
      "   February 2021\n",
      "Mo Tu We Th Fr Sa Su\n",
      " 1  2  3  4  5  6  7\n",
      " 8  9 10 11 12 13 14\n",
      "15 16 17 18 19 20 21\n",
      "22 23 24 25 26 27 28\n",
      "\n"
     ]
    }
   ],
   "source": [
    "# Program to display calendar\n",
    "\n",
    "import calendar\n",
    "\n",
    "yy = int(input(\"Enter year (yyyy): \"))\n",
    "mm = int(input(\"Enter month (mm): \"))\n",
    "\n",
    "print(calendar.month(yy, mm))"
   ]
  },
  {
   "cell_type": "markdown",
   "id": "6cce00c2",
   "metadata": {},
   "source": [
    "Q4. Write a Python program to solve quadratic equation?"
   ]
  },
  {
   "cell_type": "code",
   "execution_count": 10,
   "id": "6ff75cb9",
   "metadata": {},
   "outputs": [
    {
     "name": "stdout",
     "output_type": "stream",
     "text": [
      "a = 2\n",
      "b = 5\n",
      "c = 6\n",
      "solution for  2 x**2+ 5 x+ 6 = 0 is  (-1.25+1.1989578808281798j) and (-1.25-1.1989578808281798j)\n"
     ]
    }
   ],
   "source": [
    "#Program to solve quadratic equation : ax**2 + bx + c = 0 ; where a,b,c are real numbers and a!=0\n",
    "a= int(input(\"a = \"))\n",
    "b= int(input(\"b = \"))\n",
    "c= int(input(\"c = \"))\n",
    "\n",
    "# calculate the discriminant\n",
    "d = (b**2) - (4*a*c)\n",
    "\n",
    "#We know that the solutions of this quadratic equation is given by : \n",
    "#(-b + (d) ** 0.5) / (2 * a) and (-b - (d)** 0.5) / (2 * a)\n",
    "\n",
    "x = (-b + (d) ** 0.5) / (2 * a)\n",
    "y = (-b - (d)** 0.5) / (2 * a)\n",
    "\n",
    "print(\"solution for \", a, \"x**2+\", b, \"x+\", c, \"= 0 is \", x, \"and\", y)"
   ]
  },
  {
   "cell_type": "markdown",
   "id": "12e1462d",
   "metadata": {},
   "source": [
    "Q5. Write a Python program to swap two variables without temp variable?"
   ]
  },
  {
   "cell_type": "code",
   "execution_count": 12,
   "id": "b5358354",
   "metadata": {},
   "outputs": [
    {
     "name": "stdout",
     "output_type": "stream",
     "text": [
      "x = 5\n",
      "y = 10\n",
      "After swapping: \n",
      "Value of x :  10  and y :  20\n"
     ]
    }
   ],
   "source": [
    "#Program to swap'x' and 'y'\n",
    "X = int(input(\"x = \"))\n",
    "y = int(input(\"y = \"))\n",
    " \n",
    "x, y = y, x\n",
    " \n",
    "print (\"After swapping: \")\n",
    "print(\"Value of x : \", x, \" and y : \", y)"
   ]
  }
 ],
 "metadata": {
  "kernelspec": {
   "display_name": "Python 3 (ipykernel)",
   "language": "python",
   "name": "python3"
  },
  "language_info": {
   "codemirror_mode": {
    "name": "ipython",
    "version": 3
   },
   "file_extension": ".py",
   "mimetype": "text/x-python",
   "name": "python",
   "nbconvert_exporter": "python",
   "pygments_lexer": "ipython3",
   "version": "3.9.7"
  }
 },
 "nbformat": 4,
 "nbformat_minor": 5
}
