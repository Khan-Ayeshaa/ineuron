{
 "cells": [
  {
   "cell_type": "markdown",
   "id": "dbd17ee8",
   "metadata": {},
   "source": [
    "1. To what does a relative path refer?\n",
    "Ans- Relative path refers to a current working directory."
   ]
  },
  {
   "cell_type": "markdown",
   "id": "867169fb",
   "metadata": {},
   "source": [
    "2. What does an absolute path start with your operating system?\n",
    "Ans- Absolute path starts with the root directory like C:\\"
   ]
  },
  {
   "cell_type": "markdown",
   "id": "907aa325",
   "metadata": {},
   "source": [
    "3. What do the functions os.getcwd() and os.chdir() do?\n",
    "Ans- os.getcwd() gives the current working directory and os.chdir() changes the current working directory."
   ]
  },
  {
   "cell_type": "markdown",
   "id": "d28e3f03",
   "metadata": {},
   "source": [
    "4. What are the . and .. folders?\n",
    "Ans- . represents the current folder and .. represents the preceding folder."
   ]
  },
  {
   "cell_type": "markdown",
   "id": "c5cde151",
   "metadata": {},
   "source": [
    "5. In C:\\bacon\\eggs\\spam.txt, which part is the dir name, and which part is the base name?\n",
    "Ans- C:\\bacon\\eggs is the directory name and spam.txt is the base name."
   ]
  },
  {
   "cell_type": "markdown",
   "id": "fcc51a8a",
   "metadata": {},
   "source": [
    "6. What are the three “mode” arguments that can be passed to the open() function?\n",
    "Ans- 'r' for read mode, 'w' for write mode and 'a' for append mode."
   ]
  },
  {
   "cell_type": "markdown",
   "id": "907e4ccc",
   "metadata": {},
   "source": [
    "7. What happens if an existing file is opened in write mode?\n",
    "Ans- It erases the text written the existing file and overwrites it."
   ]
  },
  {
   "cell_type": "markdown",
   "id": "6034edc8",
   "metadata": {},
   "source": [
    "8. How do you tell the difference between read() and readlines()?\n",
    "Ans- read() returns the whole file and returns it as a string whereas readlines() returns the list of all the lines in one string."
   ]
  },
  {
   "cell_type": "markdown",
   "id": "81e1b074",
   "metadata": {},
   "source": [
    "9. What data structure does a shelf value resemble?\n",
    "Ans- It resembles a dictionary value."
   ]
  }
 ],
 "metadata": {
  "kernelspec": {
   "display_name": "Python 3 (ipykernel)",
   "language": "python",
   "name": "python3"
  },
  "language_info": {
   "codemirror_mode": {
    "name": "ipython",
    "version": 3
   },
   "file_extension": ".py",
   "mimetype": "text/x-python",
   "name": "python",
   "nbconvert_exporter": "python",
   "pygments_lexer": "ipython3",
   "version": "3.11.3"
  }
 },
 "nbformat": 4,
 "nbformat_minor": 5
}
