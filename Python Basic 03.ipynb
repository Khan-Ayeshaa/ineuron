{
 "cells": [
  {
   "cell_type": "markdown",
   "id": "1160eca3",
   "metadata": {},
   "source": [
    "Q1. Why are functions advantageous to have in your programs?"
   ]
  },
  {
   "cell_type": "markdown",
   "id": "c9b97030",
   "metadata": {},
   "source": [
    "Ans1- Functions make our program more readable and avoid us to write the same code again hence reducing the need of a duplicate code. Using a function in our code makes it sructured and understandable. "
   ]
  },
  {
   "cell_type": "markdown",
   "id": "53314d6a",
   "metadata": {},
   "source": [
    "Q2. When does the code in a function run: when it's specified or when it's called?"
   ]
  },
  {
   "cell_type": "markdown",
   "id": "7d05a641",
   "metadata": {},
   "source": [
    "Ans2- When it's called."
   ]
  },
  {
   "cell_type": "markdown",
   "id": "b3620ee3",
   "metadata": {},
   "source": [
    "Q3. What statement creates a function?"
   ]
  },
  {
   "cell_type": "markdown",
   "id": "2481fcd8",
   "metadata": {},
   "source": [
    "Ans3- The define statement i.e. def(function_name):"
   ]
  },
  {
   "cell_type": "markdown",
   "id": "f3aae240",
   "metadata": {},
   "source": [
    "Q4. What is the difference between a function and a function call?"
   ]
  },
  {
   "cell_type": "markdown",
   "id": "5b739c6e",
   "metadata": {},
   "source": [
    "Ans4- A function defines the action and the code that the function has to take.\n",
    "Whereas a function call executes that function by returning the value."
   ]
  },
  {
   "cell_type": "markdown",
   "id": "8af1c65e",
   "metadata": {},
   "source": [
    "Q5. How many global scopes are there in a Python program? How many local scopes?"
   ]
  },
  {
   "cell_type": "markdown",
   "id": "0731efb5",
   "metadata": {},
   "source": [
    "Ans5- There is one global scope.\n",
    "Local scopes are created when we call the function."
   ]
  },
  {
   "cell_type": "markdown",
   "id": "773a06d7",
   "metadata": {},
   "source": [
    "Q6. What happens to variables in a local scope when the function call returns?"
   ]
  },
  {
   "cell_type": "markdown",
   "id": "4ef9f0b1",
   "metadata": {},
   "source": [
    "Ans6- When a function returns, the local scope is deleted from the memory and the variable is deleted."
   ]
  },
  {
   "cell_type": "markdown",
   "id": "a954c131",
   "metadata": {},
   "source": [
    "Q7. What is the concept of a return value? Is it possible to have a return value in an expression?"
   ]
  },
  {
   "cell_type": "markdown",
   "id": "ec5c4802",
   "metadata": {},
   "source": [
    "Ans7- Return value is the value that a fundtion call evaluates to. Yes return value can be used in an expression."
   ]
  },
  {
   "cell_type": "markdown",
   "id": "2d6d32db",
   "metadata": {},
   "source": [
    "Q8. If a function does not have a return statement, what is the return value of a call to that function?"
   ]
  },
  {
   "cell_type": "markdown",
   "id": "07ab410c",
   "metadata": {},
   "source": [
    "Ans8- None"
   ]
  },
  {
   "cell_type": "markdown",
   "id": "5b5234a4",
   "metadata": {},
   "source": [
    "Q9. How do you make a function variable refer to the global variable?"
   ]
  },
  {
   "cell_type": "markdown",
   "id": "9e6a283c",
   "metadata": {},
   "source": [
    "Ans9- By using a global statement"
   ]
  },
  {
   "cell_type": "markdown",
   "id": "6139fb9a",
   "metadata": {},
   "source": [
    "Q10. What is the data type of None?"
   ]
  },
  {
   "cell_type": "markdown",
   "id": "621b8187",
   "metadata": {},
   "source": [
    "Ans10- None Type"
   ]
  },
  {
   "cell_type": "markdown",
   "id": "08858d36",
   "metadata": {},
   "source": [
    "Q11. What does the sentence import areallyourpetsnamederic do?"
   ]
  },
  {
   "cell_type": "markdown",
   "id": "3e830315",
   "metadata": {},
   "source": [
    "Ans11- It will import the module named 'areallyourpetsnamederic'."
   ]
  },
  {
   "cell_type": "markdown",
   "id": "19eb6336",
   "metadata": {},
   "source": [
    "Q12. If you had a bacon() feature in a spam module, what would you call it after importing spam?"
   ]
  },
  {
   "cell_type": "markdown",
   "id": "0195690f",
   "metadata": {},
   "source": [
    "Ans12. import spam\n",
    "       spam.bacon()"
   ]
  },
  {
   "cell_type": "markdown",
   "id": "f3b8afd3",
   "metadata": {},
   "source": [
    "Q13. What can you do to save a programme from crashing if it encounters an error?"
   ]
  },
  {
   "cell_type": "markdown",
   "id": "9fd8533b",
   "metadata": {},
   "source": [
    "Ans13- Use exception or error handling, by putting the error code in try clause."
   ]
  },
  {
   "cell_type": "markdown",
   "id": "a43f1453",
   "metadata": {},
   "source": [
    "Q14. What is the purpose of the try clause? What is the purpose of the except clause?"
   ]
  },
  {
   "cell_type": "markdown",
   "id": "3b4d0029",
   "metadata": {},
   "source": [
    "Ans14 - In try clause we put the peice of codewhich we are unsure of or that which might encounter an error.\n",
    "In the except clause we put the code which will execute one the code in try clause fails or crashes."
   ]
  }
 ],
 "metadata": {
  "kernelspec": {
   "display_name": "Python 3 (ipykernel)",
   "language": "python",
   "name": "python3"
  },
  "language_info": {
   "codemirror_mode": {
    "name": "ipython",
    "version": 3
   },
   "file_extension": ".py",
   "mimetype": "text/x-python",
   "name": "python",
   "nbconvert_exporter": "python",
   "pygments_lexer": "ipython3",
   "version": "3.11.3"
  }
 },
 "nbformat": 4,
 "nbformat_minor": 5
}
