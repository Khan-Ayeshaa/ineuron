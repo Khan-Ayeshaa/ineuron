{
 "cells": [
  {
   "cell_type": "markdown",
   "id": "5806a6b9",
   "metadata": {},
   "source": [
    "1. What are escape characters, and how do you use them?\n",
    "Ans1- Escape characters are used to enter illegal strings using \\ followed by the string we want to enter. Example - \"My name is \\\"Ayesha\"\". So we can enter double quotes as a string without any error.\n",
    "\n",
    "\n",
    "2. What do the escape characters n and t stand for?\n",
    "Ans2- \\n means new line and \\t means tab.\n",
    "\n",
    "\n",
    "3. What is the way to include backslash characters in a string?\n",
    "Ans3- To include a backslash character as a string itself we need to use 2 backslashes together.\n",
    "\n",
    "\n",
    "4. The string \"Howl's Moving Castle\" is a correct value. Why isn't the single quote character in the word Howl's not escaped a problem?\n",
    "Ans4- It is because the string is quoted between double quotation marks hence the single quote is referred to as a string.\n",
    "\n",
    "\n",
    "5. How do you write a string of newlines if you don't want to use the n character?\n",
    "Ans5- Generally we use \\n to move to newlines, but if we don't wish to use the n character then either we can use different print statements to get the output in new lines or we can use end = \"  \".\n",
    "\n",
    "\n",
    "6. What are the values of the given expressions?\n",
    "Ans6- The indices starts from 0 with the first character. [start: end: jumps]\n",
    "'Hello, world!'[1] - 'e'\n",
    "'Hello, world!'[0:5] - 'Hello'\n",
    "'Hello, world!'[:5] - 'Hello'\n",
    "'Hello, world!'[3:] - 'lo, world!'\n",
    "\n",
    "\n",
    "7. What are the values of the following expressions?\n",
    "Ans7- \n",
    "'Hello'.upper() - 'HELLO' (Capitalise all the letters)\n",
    "'Hello'.upper().isupper() - True (Capitalise the letters and then validates if it is upper)\n",
    "'Hello'.upper().lower() - 'hello' (Capitalise the letters and then change them to lowercase)\n",
    "\n",
    "\n",
    "8. What are the values of the following expressions?\n",
    "Ans8-\n",
    "'Remember, remember, the fifth of July.'.split() \n",
    "OUTPUT - ['Remember,' , 'remember,' , 'the' , 'fifth' , 'of' , 'July.']\n",
    "'-'.join('There can only one.'.split())\n",
    "OUTPUT - 'There-can-only-one.'\n",
    "\n",
    "\n",
    "9. What are the methods for right-justifying, left-justifying, and centering a string?\n",
    "Ans9- We use the rjust() for right-justifying, ljust() for left-justifying, and center() for centering a string. \n",
    "\n",
    "\n",
    "10. What is the best way to remove whitespace characters from the start or end?\n",
    "Ans10- We use strip() to remove space from both start or end. To remove whitespace from start or left we use lstrip() and to remove the whitespace from right or end we use rstrip()."
   ]
  }
 ],
 "metadata": {
  "kernelspec": {
   "display_name": "Python 3 (ipykernel)",
   "language": "python",
   "name": "python3"
  },
  "language_info": {
   "codemirror_mode": {
    "name": "ipython",
    "version": 3
   },
   "file_extension": ".py",
   "mimetype": "text/x-python",
   "name": "python",
   "nbconvert_exporter": "python",
   "pygments_lexer": "ipython3",
   "version": "3.11.3"
  }
 },
 "nbformat": 4,
 "nbformat_minor": 5
}
